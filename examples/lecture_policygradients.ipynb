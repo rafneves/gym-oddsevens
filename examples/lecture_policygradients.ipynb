{
 "cells": [
  {
   "cell_type": "markdown",
   "metadata": {},
   "source": [
    "# Aula 2 - Parte Prática - Policy Gradients (Fonte: Notebook do curso - Intro. Reinforcement Learning, Curso Verao IME-USP, 2020."
   ]
  },
  {
   "cell_type": "markdown",
   "metadata": {},
   "source": [
    "## Introdução\n",
    "\n",
    "Nesse segundo notebook vamos aprender como melhorar o desempenho de um agente ao longo do tempo com base em experiências. Para isso, representaremos a política $\\pi_\\theta$ do agente por meio de uma rede neural de parâmetros $\\theta$.\n",
    "\n",
    "<img src=\"img/policy-net-agent-env-loop.png\" alt=\"Agent-Env Loop\" style=\"width: 550px;\"/>\n",
    "\n",
    "A abordagem que iremos estudar é conhecida por **Otimização de Política** baseada em gradientes (outro nome comum encontrado na literatura é Busca de Política (*Policy Search*)). De maneira geral, essa classe de algoritmos de RL é denominada como **Policy Gradients**.\n",
    "\n",
    "Começaremos a explorar Policy Gradients nesse notebook com uma implementação básica. A fim de desenvolver gradualmente seus principais componentes e entender o papel de cada um deles, iremos de forma didática construir o algoritmo **REINFORCE**.\n",
    "\n",
    "$$\n",
    "\\nabla_\\theta J(\\theta) = \\mathbb{E}_{\\tau \\sim \\pi_\\theta} \\left [ \\sum_{t=0}^{T-1} \\nabla_\\theta \\log \\pi_\\theta(\\mathbf{a}_t|\\mathbf{s}_t)  \\sum_{t'=0}^{T-1} r_{t'+1} \\right ]\n",
    "$$\n",
    "\n",
    "\n",
    "### Objetivos:\n",
    "\n",
    "- Entender a abordagem de otimização de políticas como busca no espaço de parâmetros da política\n",
    "- Implementar um primeiro agente baseado no algoritmo REINFORCE\n",
    "- Familiarizar-se com a API básica de construção de modelos (i.e., redes neurais) em Keras\n",
    "- Familiarizar-se com métodos de Deep Learning usando TensorFlow 2.X"
   ]
  },
  {
   "cell_type": "markdown",
   "metadata": {},
   "source": [
    "### Imports\n",
    "\n",
    "> **Atenção:** não se esqueça de executar todos os `imports` necessários antes prosseguir com o tutorial."
   ]
  },
  {
   "cell_type": "code",
   "execution_count": 1,
   "metadata": {},
   "outputs": [
    {
     "data": {
      "text/html": [
       "\n",
       "    <div class=\"bk-root\">\n",
       "        <a href=\"https://bokeh.org\" target=\"_blank\" class=\"bk-logo bk-logo-small bk-logo-notebook\"></a>\n",
       "        <span id=\"1001\">Loading BokehJS ...</span>\n",
       "    </div>"
      ]
     },
     "metadata": {},
     "output_type": "display_data"
    },
    {
     "data": {
      "application/javascript": [
       "\n",
       "(function(root) {\n",
       "  function now() {\n",
       "    return new Date();\n",
       "  }\n",
       "\n",
       "  var force = true;\n",
       "\n",
       "  if (typeof root._bokeh_onload_callbacks === \"undefined\" || force === true) {\n",
       "    root._bokeh_onload_callbacks = [];\n",
       "    root._bokeh_is_loading = undefined;\n",
       "  }\n",
       "\n",
       "  var JS_MIME_TYPE = 'application/javascript';\n",
       "  var HTML_MIME_TYPE = 'text/html';\n",
       "  var EXEC_MIME_TYPE = 'application/vnd.bokehjs_exec.v0+json';\n",
       "  var CLASS_NAME = 'output_bokeh rendered_html';\n",
       "\n",
       "  /**\n",
       "   * Render data to the DOM node\n",
       "   */\n",
       "  function render(props, node) {\n",
       "    var script = document.createElement(\"script\");\n",
       "    node.appendChild(script);\n",
       "  }\n",
       "\n",
       "  /**\n",
       "   * Handle when an output is cleared or removed\n",
       "   */\n",
       "  function handleClearOutput(event, handle) {\n",
       "    var cell = handle.cell;\n",
       "\n",
       "    var id = cell.output_area._bokeh_element_id;\n",
       "    var server_id = cell.output_area._bokeh_server_id;\n",
       "    // Clean up Bokeh references\n",
       "    if (id != null && id in Bokeh.index) {\n",
       "      Bokeh.index[id].model.document.clear();\n",
       "      delete Bokeh.index[id];\n",
       "    }\n",
       "\n",
       "    if (server_id !== undefined) {\n",
       "      // Clean up Bokeh references\n",
       "      var cmd = \"from bokeh.io.state import curstate; print(curstate().uuid_to_server['\" + server_id + \"'].get_sessions()[0].document.roots[0]._id)\";\n",
       "      cell.notebook.kernel.execute(cmd, {\n",
       "        iopub: {\n",
       "          output: function(msg) {\n",
       "            var id = msg.content.text.trim();\n",
       "            if (id in Bokeh.index) {\n",
       "              Bokeh.index[id].model.document.clear();\n",
       "              delete Bokeh.index[id];\n",
       "            }\n",
       "          }\n",
       "        }\n",
       "      });\n",
       "      // Destroy server and session\n",
       "      var cmd = \"import bokeh.io.notebook as ion; ion.destroy_server('\" + server_id + \"')\";\n",
       "      cell.notebook.kernel.execute(cmd);\n",
       "    }\n",
       "  }\n",
       "\n",
       "  /**\n",
       "   * Handle when a new output is added\n",
       "   */\n",
       "  function handleAddOutput(event, handle) {\n",
       "    var output_area = handle.output_area;\n",
       "    var output = handle.output;\n",
       "\n",
       "    // limit handleAddOutput to display_data with EXEC_MIME_TYPE content only\n",
       "    if ((output.output_type != \"display_data\") || (!output.data.hasOwnProperty(EXEC_MIME_TYPE))) {\n",
       "      return\n",
       "    }\n",
       "\n",
       "    var toinsert = output_area.element.find(\".\" + CLASS_NAME.split(' ')[0]);\n",
       "\n",
       "    if (output.metadata[EXEC_MIME_TYPE][\"id\"] !== undefined) {\n",
       "      toinsert[toinsert.length - 1].firstChild.textContent = output.data[JS_MIME_TYPE];\n",
       "      // store reference to embed id on output_area\n",
       "      output_area._bokeh_element_id = output.metadata[EXEC_MIME_TYPE][\"id\"];\n",
       "    }\n",
       "    if (output.metadata[EXEC_MIME_TYPE][\"server_id\"] !== undefined) {\n",
       "      var bk_div = document.createElement(\"div\");\n",
       "      bk_div.innerHTML = output.data[HTML_MIME_TYPE];\n",
       "      var script_attrs = bk_div.children[0].attributes;\n",
       "      for (var i = 0; i < script_attrs.length; i++) {\n",
       "        toinsert[toinsert.length - 1].firstChild.setAttribute(script_attrs[i].name, script_attrs[i].value);\n",
       "        toinsert[toinsert.length - 1].firstChild.textContent = bk_div.children[0].textContent\n",
       "      }\n",
       "      // store reference to server id on output_area\n",
       "      output_area._bokeh_server_id = output.metadata[EXEC_MIME_TYPE][\"server_id\"];\n",
       "    }\n",
       "  }\n",
       "\n",
       "  function register_renderer(events, OutputArea) {\n",
       "\n",
       "    function append_mime(data, metadata, element) {\n",
       "      // create a DOM node to render to\n",
       "      var toinsert = this.create_output_subarea(\n",
       "        metadata,\n",
       "        CLASS_NAME,\n",
       "        EXEC_MIME_TYPE\n",
       "      );\n",
       "      this.keyboard_manager.register_events(toinsert);\n",
       "      // Render to node\n",
       "      var props = {data: data, metadata: metadata[EXEC_MIME_TYPE]};\n",
       "      render(props, toinsert[toinsert.length - 1]);\n",
       "      element.append(toinsert);\n",
       "      return toinsert\n",
       "    }\n",
       "\n",
       "    /* Handle when an output is cleared or removed */\n",
       "    events.on('clear_output.CodeCell', handleClearOutput);\n",
       "    events.on('delete.Cell', handleClearOutput);\n",
       "\n",
       "    /* Handle when a new output is added */\n",
       "    events.on('output_added.OutputArea', handleAddOutput);\n",
       "\n",
       "    /**\n",
       "     * Register the mime type and append_mime function with output_area\n",
       "     */\n",
       "    OutputArea.prototype.register_mime_type(EXEC_MIME_TYPE, append_mime, {\n",
       "      /* Is output safe? */\n",
       "      safe: true,\n",
       "      /* Index of renderer in `output_area.display_order` */\n",
       "      index: 0\n",
       "    });\n",
       "  }\n",
       "\n",
       "  // register the mime type if in Jupyter Notebook environment and previously unregistered\n",
       "  if (root.Jupyter !== undefined) {\n",
       "    var events = require('base/js/events');\n",
       "    var OutputArea = require('notebook/js/outputarea').OutputArea;\n",
       "\n",
       "    if (OutputArea.prototype.mime_types().indexOf(EXEC_MIME_TYPE) == -1) {\n",
       "      register_renderer(events, OutputArea);\n",
       "    }\n",
       "  }\n",
       "\n",
       "  \n",
       "  if (typeof (root._bokeh_timeout) === \"undefined\" || force === true) {\n",
       "    root._bokeh_timeout = Date.now() + 5000;\n",
       "    root._bokeh_failed_load = false;\n",
       "  }\n",
       "\n",
       "  var NB_LOAD_WARNING = {'data': {'text/html':\n",
       "     \"<div style='background-color: #fdd'>\\n\"+\n",
       "     \"<p>\\n\"+\n",
       "     \"BokehJS does not appear to have successfully loaded. If loading BokehJS from CDN, this \\n\"+\n",
       "     \"may be due to a slow or bad network connection. Possible fixes:\\n\"+\n",
       "     \"</p>\\n\"+\n",
       "     \"<ul>\\n\"+\n",
       "     \"<li>re-rerun `output_notebook()` to attempt to load from CDN again, or</li>\\n\"+\n",
       "     \"<li>use INLINE resources instead, as so:</li>\\n\"+\n",
       "     \"</ul>\\n\"+\n",
       "     \"<code>\\n\"+\n",
       "     \"from bokeh.resources import INLINE\\n\"+\n",
       "     \"output_notebook(resources=INLINE)\\n\"+\n",
       "     \"</code>\\n\"+\n",
       "     \"</div>\"}};\n",
       "\n",
       "  function display_loaded() {\n",
       "    var el = document.getElementById(\"1001\");\n",
       "    if (el != null) {\n",
       "      el.textContent = \"BokehJS is loading...\";\n",
       "    }\n",
       "    if (root.Bokeh !== undefined) {\n",
       "      if (el != null) {\n",
       "        el.textContent = \"BokehJS \" + root.Bokeh.version + \" successfully loaded.\";\n",
       "      }\n",
       "    } else if (Date.now() < root._bokeh_timeout) {\n",
       "      setTimeout(display_loaded, 100)\n",
       "    }\n",
       "  }\n",
       "\n",
       "\n",
       "  function run_callbacks() {\n",
       "    try {\n",
       "      root._bokeh_onload_callbacks.forEach(function(callback) {\n",
       "        if (callback != null)\n",
       "          callback();\n",
       "      });\n",
       "    } finally {\n",
       "      delete root._bokeh_onload_callbacks\n",
       "    }\n",
       "    console.debug(\"Bokeh: all callbacks have finished\");\n",
       "  }\n",
       "\n",
       "  function load_libs(css_urls, js_urls, callback) {\n",
       "    if (css_urls == null) css_urls = [];\n",
       "    if (js_urls == null) js_urls = [];\n",
       "\n",
       "    root._bokeh_onload_callbacks.push(callback);\n",
       "    if (root._bokeh_is_loading > 0) {\n",
       "      console.debug(\"Bokeh: BokehJS is being loaded, scheduling callback at\", now());\n",
       "      return null;\n",
       "    }\n",
       "    if (js_urls == null || js_urls.length === 0) {\n",
       "      run_callbacks();\n",
       "      return null;\n",
       "    }\n",
       "    console.debug(\"Bokeh: BokehJS not loaded, scheduling load and callback at\", now());\n",
       "    root._bokeh_is_loading = css_urls.length + js_urls.length;\n",
       "\n",
       "    function on_load() {\n",
       "      root._bokeh_is_loading--;\n",
       "      if (root._bokeh_is_loading === 0) {\n",
       "        console.debug(\"Bokeh: all BokehJS libraries/stylesheets loaded\");\n",
       "        run_callbacks()\n",
       "      }\n",
       "    }\n",
       "\n",
       "    function on_error() {\n",
       "      console.error(\"failed to load \" + url);\n",
       "    }\n",
       "\n",
       "    for (var i = 0; i < css_urls.length; i++) {\n",
       "      var url = css_urls[i];\n",
       "      const element = document.createElement(\"link\");\n",
       "      element.onload = on_load;\n",
       "      element.onerror = on_error;\n",
       "      element.rel = \"stylesheet\";\n",
       "      element.type = \"text/css\";\n",
       "      element.href = url;\n",
       "      console.debug(\"Bokeh: injecting link tag for BokehJS stylesheet: \", url);\n",
       "      document.body.appendChild(element);\n",
       "    }\n",
       "\n",
       "    const hashes = {\"https://cdn.bokeh.org/bokeh/release/bokeh-2.0.2.min.js\": \"ufR9RFnRs6lniiaFvtJziE0YeidtAgBRH6ux2oUItHw5WTvE1zuk9uzhUU/FJXDp\", \"https://cdn.bokeh.org/bokeh/release/bokeh-widgets-2.0.2.min.js\": \"8QM/PGWBT+IssZuRcDcjzwIh1mkOmJSoNMmyYDZbCfXJg3Ap1lEvdVgFuSAwhb/J\", \"https://cdn.bokeh.org/bokeh/release/bokeh-tables-2.0.2.min.js\": \"Jm8cH3Rg0P6UeZhVY5cLy1WzKajUT9KImCY+76hEqrcJt59/d8GPvFHjCkYgnSIn\", \"https://cdn.bokeh.org/bokeh/release/bokeh-gl-2.0.2.min.js\": \"Ozhzj+SI7ywm74aOI/UajcWz+C0NjsPunEVyVIrxzYkB+jA+2tUw8x5xJCbVtK5I\"};\n",
       "\n",
       "    for (var i = 0; i < js_urls.length; i++) {\n",
       "      var url = js_urls[i];\n",
       "      var element = document.createElement('script');\n",
       "      element.onload = on_load;\n",
       "      element.onerror = on_error;\n",
       "      element.async = false;\n",
       "      element.src = url;\n",
       "      if (url in hashes) {\n",
       "        element.crossOrigin = \"anonymous\";\n",
       "        element.integrity = \"sha384-\" + hashes[url];\n",
       "      }\n",
       "      console.debug(\"Bokeh: injecting script tag for BokehJS library: \", url);\n",
       "      document.head.appendChild(element);\n",
       "    }\n",
       "  };\n",
       "\n",
       "  function inject_raw_css(css) {\n",
       "    const element = document.createElement(\"style\");\n",
       "    element.appendChild(document.createTextNode(css));\n",
       "    document.body.appendChild(element);\n",
       "  }\n",
       "\n",
       "  \n",
       "  var js_urls = [\"https://cdn.bokeh.org/bokeh/release/bokeh-2.0.2.min.js\", \"https://cdn.bokeh.org/bokeh/release/bokeh-widgets-2.0.2.min.js\", \"https://cdn.bokeh.org/bokeh/release/bokeh-tables-2.0.2.min.js\", \"https://cdn.bokeh.org/bokeh/release/bokeh-gl-2.0.2.min.js\"];\n",
       "  var css_urls = [];\n",
       "  \n",
       "\n",
       "  var inline_js = [\n",
       "    function(Bokeh) {\n",
       "      Bokeh.set_log_level(\"info\");\n",
       "    },\n",
       "    function(Bokeh) {\n",
       "    \n",
       "    \n",
       "    }\n",
       "  ];\n",
       "\n",
       "  function run_inline_js() {\n",
       "    \n",
       "    if (root.Bokeh !== undefined || force === true) {\n",
       "      \n",
       "    for (var i = 0; i < inline_js.length; i++) {\n",
       "      inline_js[i].call(root, root.Bokeh);\n",
       "    }\n",
       "    if (force === true) {\n",
       "        display_loaded();\n",
       "      }} else if (Date.now() < root._bokeh_timeout) {\n",
       "      setTimeout(run_inline_js, 100);\n",
       "    } else if (!root._bokeh_failed_load) {\n",
       "      console.log(\"Bokeh: BokehJS failed to load within specified timeout.\");\n",
       "      root._bokeh_failed_load = true;\n",
       "    } else if (force !== true) {\n",
       "      var cell = $(document.getElementById(\"1001\")).parents('.cell').data().cell;\n",
       "      cell.output_area.append_execute_result(NB_LOAD_WARNING)\n",
       "    }\n",
       "\n",
       "  }\n",
       "\n",
       "  if (root._bokeh_is_loading === 0) {\n",
       "    console.debug(\"Bokeh: BokehJS loaded, going straight to plotting\");\n",
       "    run_inline_js();\n",
       "  } else {\n",
       "    load_libs(css_urls, js_urls, function() {\n",
       "      console.debug(\"Bokeh: BokehJS plotting callback run at\", now());\n",
       "      run_inline_js();\n",
       "    });\n",
       "  }\n",
       "}(window));"
      ],
      "application/vnd.bokehjs_load.v0+json": "\n(function(root) {\n  function now() {\n    return new Date();\n  }\n\n  var force = true;\n\n  if (typeof root._bokeh_onload_callbacks === \"undefined\" || force === true) {\n    root._bokeh_onload_callbacks = [];\n    root._bokeh_is_loading = undefined;\n  }\n\n  \n\n  \n  if (typeof (root._bokeh_timeout) === \"undefined\" || force === true) {\n    root._bokeh_timeout = Date.now() + 5000;\n    root._bokeh_failed_load = false;\n  }\n\n  var NB_LOAD_WARNING = {'data': {'text/html':\n     \"<div style='background-color: #fdd'>\\n\"+\n     \"<p>\\n\"+\n     \"BokehJS does not appear to have successfully loaded. If loading BokehJS from CDN, this \\n\"+\n     \"may be due to a slow or bad network connection. Possible fixes:\\n\"+\n     \"</p>\\n\"+\n     \"<ul>\\n\"+\n     \"<li>re-rerun `output_notebook()` to attempt to load from CDN again, or</li>\\n\"+\n     \"<li>use INLINE resources instead, as so:</li>\\n\"+\n     \"</ul>\\n\"+\n     \"<code>\\n\"+\n     \"from bokeh.resources import INLINE\\n\"+\n     \"output_notebook(resources=INLINE)\\n\"+\n     \"</code>\\n\"+\n     \"</div>\"}};\n\n  function display_loaded() {\n    var el = document.getElementById(\"1001\");\n    if (el != null) {\n      el.textContent = \"BokehJS is loading...\";\n    }\n    if (root.Bokeh !== undefined) {\n      if (el != null) {\n        el.textContent = \"BokehJS \" + root.Bokeh.version + \" successfully loaded.\";\n      }\n    } else if (Date.now() < root._bokeh_timeout) {\n      setTimeout(display_loaded, 100)\n    }\n  }\n\n\n  function run_callbacks() {\n    try {\n      root._bokeh_onload_callbacks.forEach(function(callback) {\n        if (callback != null)\n          callback();\n      });\n    } finally {\n      delete root._bokeh_onload_callbacks\n    }\n    console.debug(\"Bokeh: all callbacks have finished\");\n  }\n\n  function load_libs(css_urls, js_urls, callback) {\n    if (css_urls == null) css_urls = [];\n    if (js_urls == null) js_urls = [];\n\n    root._bokeh_onload_callbacks.push(callback);\n    if (root._bokeh_is_loading > 0) {\n      console.debug(\"Bokeh: BokehJS is being loaded, scheduling callback at\", now());\n      return null;\n    }\n    if (js_urls == null || js_urls.length === 0) {\n      run_callbacks();\n      return null;\n    }\n    console.debug(\"Bokeh: BokehJS not loaded, scheduling load and callback at\", now());\n    root._bokeh_is_loading = css_urls.length + js_urls.length;\n\n    function on_load() {\n      root._bokeh_is_loading--;\n      if (root._bokeh_is_loading === 0) {\n        console.debug(\"Bokeh: all BokehJS libraries/stylesheets loaded\");\n        run_callbacks()\n      }\n    }\n\n    function on_error() {\n      console.error(\"failed to load \" + url);\n    }\n\n    for (var i = 0; i < css_urls.length; i++) {\n      var url = css_urls[i];\n      const element = document.createElement(\"link\");\n      element.onload = on_load;\n      element.onerror = on_error;\n      element.rel = \"stylesheet\";\n      element.type = \"text/css\";\n      element.href = url;\n      console.debug(\"Bokeh: injecting link tag for BokehJS stylesheet: \", url);\n      document.body.appendChild(element);\n    }\n\n    const hashes = {\"https://cdn.bokeh.org/bokeh/release/bokeh-2.0.2.min.js\": \"ufR9RFnRs6lniiaFvtJziE0YeidtAgBRH6ux2oUItHw5WTvE1zuk9uzhUU/FJXDp\", \"https://cdn.bokeh.org/bokeh/release/bokeh-widgets-2.0.2.min.js\": \"8QM/PGWBT+IssZuRcDcjzwIh1mkOmJSoNMmyYDZbCfXJg3Ap1lEvdVgFuSAwhb/J\", \"https://cdn.bokeh.org/bokeh/release/bokeh-tables-2.0.2.min.js\": \"Jm8cH3Rg0P6UeZhVY5cLy1WzKajUT9KImCY+76hEqrcJt59/d8GPvFHjCkYgnSIn\", \"https://cdn.bokeh.org/bokeh/release/bokeh-gl-2.0.2.min.js\": \"Ozhzj+SI7ywm74aOI/UajcWz+C0NjsPunEVyVIrxzYkB+jA+2tUw8x5xJCbVtK5I\"};\n\n    for (var i = 0; i < js_urls.length; i++) {\n      var url = js_urls[i];\n      var element = document.createElement('script');\n      element.onload = on_load;\n      element.onerror = on_error;\n      element.async = false;\n      element.src = url;\n      if (url in hashes) {\n        element.crossOrigin = \"anonymous\";\n        element.integrity = \"sha384-\" + hashes[url];\n      }\n      console.debug(\"Bokeh: injecting script tag for BokehJS library: \", url);\n      document.head.appendChild(element);\n    }\n  };\n\n  function inject_raw_css(css) {\n    const element = document.createElement(\"style\");\n    element.appendChild(document.createTextNode(css));\n    document.body.appendChild(element);\n  }\n\n  \n  var js_urls = [\"https://cdn.bokeh.org/bokeh/release/bokeh-2.0.2.min.js\", \"https://cdn.bokeh.org/bokeh/release/bokeh-widgets-2.0.2.min.js\", \"https://cdn.bokeh.org/bokeh/release/bokeh-tables-2.0.2.min.js\", \"https://cdn.bokeh.org/bokeh/release/bokeh-gl-2.0.2.min.js\"];\n  var css_urls = [];\n  \n\n  var inline_js = [\n    function(Bokeh) {\n      Bokeh.set_log_level(\"info\");\n    },\n    function(Bokeh) {\n    \n    \n    }\n  ];\n\n  function run_inline_js() {\n    \n    if (root.Bokeh !== undefined || force === true) {\n      \n    for (var i = 0; i < inline_js.length; i++) {\n      inline_js[i].call(root, root.Bokeh);\n    }\n    if (force === true) {\n        display_loaded();\n      }} else if (Date.now() < root._bokeh_timeout) {\n      setTimeout(run_inline_js, 100);\n    } else if (!root._bokeh_failed_load) {\n      console.log(\"Bokeh: BokehJS failed to load within specified timeout.\");\n      root._bokeh_failed_load = true;\n    } else if (force !== true) {\n      var cell = $(document.getElementById(\"1001\")).parents('.cell').data().cell;\n      cell.output_area.append_execute_result(NB_LOAD_WARNING)\n    }\n\n  }\n\n  if (root._bokeh_is_loading === 0) {\n    console.debug(\"Bokeh: BokehJS loaded, going straight to plotting\");\n    run_inline_js();\n  } else {\n    load_libs(css_urls, js_urls, function() {\n      console.debug(\"Bokeh: BokehJS plotting callback run at\", now());\n      run_inline_js();\n    });\n  }\n}(window));"
     },
     "metadata": {},
     "output_type": "display_data"
    }
   ],
   "source": [
    "import logging\n",
    "\n",
    "import gym\n",
    "import numpy as np\n",
    "import tensorflow as tf\n",
    "import tensorflow_probability as tfp\n",
    "tfd = tfp.distributions\n",
    "\n",
    "from utils.agent import RLAgent\n",
    "from utils.memory import OnPolicyReplay\n",
    "import utils.runner\n",
    "from utils.viz import *\n",
    "\n",
    "# sanity check\n",
    "assert tf.__version__ == '2.1.0'\n",
    "assert tf.executing_eagerly()\n",
    "\n",
    "tf.get_logger().setLevel('ERROR') # ignore TensorFlow warnings\n",
    "gym.logger.set_level(logging.ERROR)"
   ]
  },
  {
   "cell_type": "code",
   "execution_count": 2,
   "metadata": {},
   "outputs": [],
   "source": [
    "import gym_oddsevens"
   ]
  },
  {
   "cell_type": "code",
   "execution_count": 3,
   "metadata": {},
   "outputs": [],
   "source": [
    "envname = 'OddsEvensAdversarial-v0'"
   ]
  },
  {
   "cell_type": "markdown",
   "metadata": {},
   "source": [
    "## 1. Redes Neurais em TensorFlow e Keras\n",
    "\n",
    "Antes de começarmos propriamente com a implementação do algoritmo REINFORCE visto em aula. Iremos introduzir em linhas gerais a biblioteca de construção de modelos (i.e., redes neurai artificiais) do Keras no TensorFlow.\n",
    "\n",
    "A grosso modo, a API do Keras é uma camada de *software* implementada em cima das funções, classes e métodos dos pacotes de Deep Learning com o objetivo de facilitar a implementação, treinameto e avaliação de redes neurais. Maiores detalhes sobre a especificação do Keras podem ser acessadas em [https://keras.io/](https://keras.io/). A documentação específica da implementação do Keras para TensorFlow se encontra em [https://www.tensorflow.org/guide/keras](https://www.tensorflow.org/guide/keras).\n",
    "\n",
    "Note que a biblioteca do Keras é bastante extensa e flexível, de forma que nesse tutorial nos restringiremos a apresentar na medida do necessário os conceitos básicos necessários para trabalhar com redes neurais no contexto de Aprendizado por Reforço, e em particular, com foco nas primitivas necessárias para se implementar Policy Gradients.\n",
    "\n",
    "> **Observação**: para aqueles interessados em uma introdução mais detalhada, sugerimos seguir após a aula os tutoriais do Tensorflow (e.g., https://www.tensorflow.org/tutorials/quickstart/beginner).\n"
   ]
  },
  {
   "cell_type": "markdown",
   "metadata": {},
   "source": [
    "### 1.1 Camadas e Modelos Sequenciais\n",
    "\n",
    "A rede neural mais simples que podemos construir é conhecida por *[Multi-Layer Perceptron](https://en.wikipedia.org/wiki/Multilayer_perceptron)* (MLP). Também conhecida por *Feedforward* ou *Fully-connected Network*.\n",
    "\n",
    "Uma MLP é definida pela composição de camadas de transformações afins, $h: \\mathbb{R}^q \\rightarrow \\mathbb{R}^p$, seguidas por uma função não-linear (e.g., *activation*):\n",
    "$\n",
    "h(\\mathbf{x}) = \\text{activation}(\\mathbf{W}_{p \\times q} \\cdot \\mathbf{x}_{q \\times 1} + \\mathbf{b}_{p \\times 1})\n",
    "$ .\n",
    "\n",
    "Recentemente, tem se tornado bastante comum o uso da função de ativação ReLU (*Rectified Linear Unit*):\n",
    "$\n",
    "\\text{ReLU}(x) = max(0, x)\n",
    "$ .\n",
    "\n",
    "> **Observação**: para esse curso não será necessário se aprofundar muito em redes neurais ou *Deep Learning*, no entanto, sugerimos como material auxiliar os excelentes vídeos explicativos sobre Redes Neurais do *3BLUE1BROWN* (https://www.3blue1brown.com/neural-networks)."
   ]
  },
  {
   "cell_type": "markdown",
   "metadata": {},
   "source": [
    "No Keras podemos utilizar a classe `tf.keras.layers.Dense` para construir a função $h(\\cdot)$ e a classe `tf.keras.Sequential` para encadear essas transformações (comumente chamadas de *camadas*):"
   ]
  },
  {
   "cell_type": "code",
   "execution_count": 4,
   "metadata": {},
   "outputs": [
    {
     "name": "stdout",
     "output_type": "stream",
     "text": [
      "Failed to import pydot. You must install pydot and graphviz for `pydotprint` to work.\n"
     ]
    }
   ],
   "source": [
    "mlp = tf.keras.Sequential([\n",
    "    tf.keras.layers.Dense(32, input_shape=(5,), activation=\"relu\"),\n",
    "    tf.keras.layers.Dense(32, activation=\"relu\"),\n",
    "    tf.keras.layers.Dense(3, activation=\"relu\"),\n",
    "])\n",
    "\n",
    "tf.keras.utils.plot_model(mlp, show_shapes=True)"
   ]
  },
  {
   "cell_type": "code",
   "execution_count": 5,
   "metadata": {},
   "outputs": [
    {
     "name": "stdout",
     "output_type": "stream",
     "text": [
      ">> mlp(x) transforma vetores `x` de tamanho 5 em vetores `y` de tamanho 3\n"
     ]
    }
   ],
   "source": [
    "x = np.random.normal(size=(5,))\n",
    "y = mlp(x[None,:])\n",
    "\n",
    "print(f\">> mlp(x) transforma vetores `x` de tamanho {x.shape[-1]} em vetores `y` de tamanho {y.shape[-1]}\")"
   ]
  },
  {
   "cell_type": "markdown",
   "metadata": {},
   "source": [
    "É importante observar que camadas e modelos em Keras esperam receber vetores em *batch*. Dessa forma, é possível processar conjuntos de vetores em paralelo; o que torna a computação consideravelmente mais eficiente.\n",
    "\n",
    "No exemplo anterior, a variável `x = np.random.normal(size=(5,))` representa um único vetor de tamanho 5. Dessa forma, é necessário adicionar uma dimensão extra através do truque de manipulação de tensores `x[None,:]`."
   ]
  },
  {
   "cell_type": "code",
   "execution_count": 6,
   "metadata": {},
   "outputs": [],
   "source": [
    "x = np.random.normal(size=(5,))\n",
    "assert x.shape == (5,)\n",
    "assert x[None,:].shape == (1, 5)"
   ]
  },
  {
   "cell_type": "markdown",
   "metadata": {},
   "source": [
    "Para processar vetores em *batch*, o Keras assume que a primeira dimensão do vetor corresponde ao `batch_size`:"
   ]
  },
  {
   "cell_type": "code",
   "execution_count": 7,
   "metadata": {},
   "outputs": [
    {
     "name": "stdout",
     "output_type": "stream",
     "text": [
      ">> mlp(x) transformou 128 vetores `x` de tamanho 5 em 128 vetores `y` de tamanho 3\n"
     ]
    }
   ],
   "source": [
    "batch_size = 128\n",
    "x = np.random.normal(size=(batch_size, 5))\n",
    "y = mlp(x)\n",
    "\n",
    "print(f\">> mlp(x) transformou {x.shape[0]} vetores `x` de tamanho {x.shape[-1]} em {y.shape[0]} vetores `y` de tamanho {y.shape[-1]}\")"
   ]
  },
  {
   "cell_type": "markdown",
   "metadata": {},
   "source": [
    "### 1.2 Camadas Probabilísticas\n",
    "\n",
    "Em Aprendizado por Reforço é muitas vezes necessário representar distribuições (i.e., variáveis aleatórias). Por exemplo, na próxima seção utilizaremos uma distribuições para representar política estocásticas definida para um espaço discreto de ações.\n",
    "\n",
    "Em TensorFlow 2.X é fácil representar as principais distribuições através da biblioteca `tensorflow_probability` (https://www.tensorflow.org/probability).\n",
    "\n",
    "> **Observação**: para os interessados em modelos probabilísticos e inferência, recomendamos revisar após a aula o tutorial sobre regressão usando o TensorFlow Probability disponível em https://blog.tensorflow.org/2019/03/regression-with-probabilistic-layers-in.html."
   ]
  },
  {
   "cell_type": "markdown",
   "metadata": {},
   "source": [
    "Para esse tutorial precisaremos representar **distribuições categóricas** (https://en.wikipedia.org/wiki/Categorical_distribution) de forma a amostrar valores discretos ou classes (representadas por números inteiros) de acordo com um vetor de probabilidades.\n",
    "\n",
    "Lembre-se que para uma variável $x \\in \\{1, 2, \\cdots, K\\}$ e um vetor de probabilidades $[p_1, p_2, \\cdots, p_K]$ (i.e., $p_i \\in [0, 1], \\sum_{i=1}^K p_i = 1$), temos que:\n",
    "\n",
    "$$\n",
    "x \\sim \\text{Categorical}([p_1, p_2, \\cdots, p_K]) \\Leftrightarrow P(x = i) = p_i\n",
    "$$"
   ]
  },
  {
   "cell_type": "markdown",
   "metadata": {},
   "source": [
    "No TensorFlow podemos adicionar um camada probabilística através da classe `tfp.layers.DistributionLambda`:"
   ]
  },
  {
   "cell_type": "code",
   "execution_count": 8,
   "metadata": {},
   "outputs": [
    {
     "name": "stdout",
     "output_type": "stream",
     "text": [
      "Failed to import pydot. You must install pydot and graphviz for `pydotprint` to work.\n"
     ]
    }
   ],
   "source": [
    "model = tf.keras.Sequential([\n",
    "    tf.keras.layers.Dense(32, input_shape=(5,), activation=\"relu\"),\n",
    "    tf.keras.layers.Dense(32, activation=\"relu\"),\n",
    "    tf.keras.layers.Dense(4),\n",
    "    tfp.layers.DistributionLambda(lambda t: tfd.Categorical(logits=t))\n",
    "])\n",
    "\n",
    "tf.keras.utils.plot_model(model, show_shapes=True)"
   ]
  },
  {
   "cell_type": "markdown",
   "metadata": {},
   "source": [
    "Se invocarmos a rede neural implementada pela variável `model` em um conjunto de vetores de entrada `inputs`, observamos que a saída corresponde a um objeto do tipo `tfp.distributions.Categorical` e não a valores da variável aleatória:"
   ]
  },
  {
   "cell_type": "code",
   "execution_count": 9,
   "metadata": {},
   "outputs": [
    {
     "name": "stdout",
     "output_type": "stream",
     "text": [
      "tfp.distributions.Categorical(\"sequential_1_distribution_lambda_Categorical\", batch_shape=[8], event_shape=[], dtype=int32)\n"
     ]
    }
   ],
   "source": [
    "inputs = np.random.normal(size=(8, 5))\n",
    "\n",
    "dist = model(inputs)\n",
    "print(dist)"
   ]
  },
  {
   "cell_type": "markdown",
   "metadata": {},
   "source": [
    "> **Atenção**: observe como o modelo representa uma distribuição parametrizada (e.g., os parâmetros de uma categórica são conhecidos por`logits`). As primeiras camadas do tipo `Dense` processam os vetores de entrada gerando um conjunto de vetores de *logits* usados para definir a distribuição condicional categórica. Em outras palavras, para cada vetor de entrada temos uma distribuição categórica (por isso dizemos que o modelo representa uma distribuição condicional, isto é, condicionada no vetor de entrada."
   ]
  },
  {
   "cell_type": "markdown",
   "metadata": {},
   "source": [
    "Para amostrar realizações da variável aleatória dada pela distribuição categórica, utilizamos o método `sample()` (disponível para todas as distribuições definidas no TensorFlow Probability):"
   ]
  },
  {
   "cell_type": "code",
   "execution_count": 10,
   "metadata": {},
   "outputs": [
    {
     "name": "stdout",
     "output_type": "stream",
     "text": [
      "tf.Tensor([1 1 2 1 0 2 1 1], shape=(8,), dtype=int32)\n"
     ]
    }
   ],
   "source": [
    "sample = dist.sample()\n",
    "print(sample)"
   ]
  },
  {
   "cell_type": "markdown",
   "metadata": {},
   "source": [
    "> **Atenção**: note que embora a entrada do `model` seja um array n-dimensional no NumPy, uma amostra da distribuição é um objeto `Tensor` do TensorFlow. Você pode usar o método `numpy()` para transformar `tf.Tensor` em um `np.ndarray`."
   ]
  },
  {
   "cell_type": "markdown",
   "metadata": {},
   "source": [
    "Outro método importante para se familiarizar é `log_prob`. Dada uma amostra ou vetores de amostra, o método `log_prob` devolve o logaritmo da probabilidade de se ter gerado a amostra."
   ]
  },
  {
   "cell_type": "code",
   "execution_count": 11,
   "metadata": {},
   "outputs": [
    {
     "name": "stdout",
     "output_type": "stream",
     "text": [
      "tf.Tensor(\n",
      "[-1.5397706 -1.3325672 -1.3716612 -1.3521228 -1.4053302 -1.4382008\n",
      " -1.0645106 -1.1154171], shape=(8,), dtype=float32)\n"
     ]
    }
   ],
   "source": [
    "sample_log_prob = dist.log_prob(sample)\n",
    "print(sample_log_prob)"
   ]
  },
  {
   "cell_type": "markdown",
   "metadata": {},
   "source": [
    "> **Atenção**: o método `log_prob` será fundamental na implementação dos algoritmos de *Policy Gradientes* nessse curso. Tenha certeza que você compreendeu seu funcionamento em termos de entradas e saídas da função."
   ]
  },
  {
   "cell_type": "markdown",
   "metadata": {},
   "source": [
    "## 2. Implementando políticas estocásticas em tf.Keras"
   ]
  },
  {
   "cell_type": "markdown",
   "metadata": {},
   "source": [
    "Nesse tutorial iremos trabalhar com problemas do OpenAI gym que são definidos para um espaço discreto de ações. Dessa forma, precisaremos representar políticas estocásticas  $\\pi_\\theta(\\mathbf{a}_t | \\mathbf{s}_t)$ para ações discretas. Para isso, utilizaremos redes neurais construídas via Keras.\n",
    "\n",
    "<img src=\"img/policy-net.png\" alt=\"Agent-Env Loop\" style=\"width: 550px;\"/>\n",
    "\n",
    "Para não perdermos tempo com detalhes de implementação, disponibilizamos a função `build_discrete_policy` que recebe as especificações dos espaços de observação e ação do ambiente e os hiper-parâmetros que definem a arquitetura da rede neural:"
   ]
  },
  {
   "cell_type": "code",
   "execution_count": 12,
   "metadata": {},
   "outputs": [],
   "source": [
    "def build_discrete_policy(obs_space, action_space, hidden_layers, activation=\"relu\"):\n",
    "    Input = tf.keras.Input\n",
    "    Dense = tf.keras.layers.Dense\n",
    "    DistributionLambda = tfp.layers.DistributionLambda\n",
    "    Categorical = tfd.Categorical\n",
    "    \n",
    "    policy_net_layers = []\n",
    "\n",
    "    policy_net_layers.append(Input(shape=obs_space.shape, name=\"State\"))\n",
    "\n",
    "    for i, units in enumerate(hidden_layers):\n",
    "        policy_net_layers.append(Dense(units=units, activation=activation, name=f\"Hidden{i+1}\"))\n",
    "    \n",
    "    policy_net_layers.append(Dense(units=action_space.n, name=\"Logits\"))\n",
    "    policy_net_layers.append(DistributionLambda(lambda t: Categorical(logits=t), name=\"Action_Distribution_Categorical\"))\n",
    "                                     \n",
    "    return tf.keras.Sequential(policy_net_layers)\n"
   ]
  },
  {
   "cell_type": "markdown",
   "metadata": {},
   "source": [
    "Execute o código abaixo para criar um modelo com 2 camadas de 64 unidades utilizando o `relu` como função de ativação:"
   ]
  },
  {
   "cell_type": "code",
   "execution_count": 13,
   "metadata": {},
   "outputs": [],
   "source": [
    "env = gym.make(envname)\n",
    "\n",
    "hidden_layers = [64, 64]\n",
    "activation = \"relu\"\n",
    "\n",
    "policy = build_discrete_policy(env.observation_space, env.action_space, hidden_layers, activation)\n",
    "\n",
    "obs = env.observation_space.sample()\n",
    "action_dist = policy(obs[None,:])\n",
    "\n",
    "action = action_dist.sample().numpy()\n",
    "assert action[0] in env.action_space"
   ]
  },
  {
   "cell_type": "markdown",
   "metadata": {},
   "source": [
    "Você pode inspecionar visualmente a arquitetura da política (e de qualquer modelo no Keras) através da função `tf.keras.utils.plot_model`:"
   ]
  },
  {
   "cell_type": "code",
   "execution_count": 14,
   "metadata": {},
   "outputs": [
    {
     "name": "stdout",
     "output_type": "stream",
     "text": [
      "Failed to import pydot. You must install pydot and graphviz for `pydotprint` to work.\n"
     ]
    }
   ],
   "source": [
    "tf.keras.utils.plot_model(policy, show_shapes=True)"
   ]
  },
  {
   "cell_type": "markdown",
   "metadata": {},
   "source": [
    "## 3. Agente REINFORCE"
   ]
  },
  {
   "cell_type": "markdown",
   "metadata": {},
   "source": [
    "Uma vez que já nos famialiarizamos com a construção de modelos via Keras e com as particularidades de uma política estocástica implementada como modelo probabilístico (via distribuição categórica), podemos começar a implementar a versão inicial do algoritmo *REINFORCE*. Lembre-se que, pela teoria desenvolvida em aula, o gradiente utilizado para otimizar a política é dado por:\n",
    "\n",
    "$$\n",
    "\\nabla_\\theta J(\\theta) = \\mathbb{E}_{\\tau \\sim \\pi_\\theta} \\left [ \\sum_{t=0}^{T-1} \\nabla_\\theta \\log \\pi_\\theta(\\mathbf{a}_t|\\mathbf{s}_t) \\hat{R}(\\tau)\\right ]~,\n",
    "$$\n",
    "onde $\\hat{R}(\\tau) = \\sum_{t=0}^{T-1} r_{t+1}$ é retorno de uma trajetória simulada no ambiente\n",
    "$\n",
    "\\tau = (\\mathbf{s}_0, \\mathbf{a}_0, r_1, \\mathbf{s}_1, \\mathbf{a}_1, r_2, \\cdots, \\mathbf{s}_{T-1}, \\mathbf{a}_{T-1}, r_{T}, s_{T}) \\sim \\pi_\\theta.\n",
    "$"
   ]
  },
  {
   "cell_type": "markdown",
   "metadata": {},
   "source": [
    "Como não é possível calcular analiticamente esse valor esperado no caso geral, estimaremos via **Monte-Carlo** o gradiente da política:\n",
    "\n",
    "$$\n",
    "\\nabla_\\theta J(\\theta) \\approx \\frac{1}{N} \\sum_{k=1}^K \\sum_{t=0}^{T-1} \\nabla_\\theta \\log \\pi_\\theta(\\mathbf{a}_t^{(k)}|\\mathbf{s}_t^{(k)}) \\hat{R}(\\tau^{(k)})~,\n",
    "$$\n",
    "\n",
    "onde o índice $k$ denota vetores da $k$-ésima trajetória amostrada. "
   ]
  },
  {
   "cell_type": "markdown",
   "metadata": {},
   "source": [
    "### 3.1 Surrogate Loss e diferenciação automática\n",
    "\n",
    "Para usar a diferenciação automática no TensorFlow (i.e., computar gradientes via `tape.gradient`) é necessário definir uma função objetivo. No contexto de aprendizado de máquina no geral, essa função objetivo é tipicamente chamada de *loss* e a maioria dos pacotes de *Deep Learning* tenta **minimizar essa função**.\n",
    "\n",
    "Dessa forma, como estamos querendo maximizar o desempenho do agente denotado por $J(\\theta) = \\mathbb{E}_{\\tau \\sim \\pi_\\theta} [R(\\tau)]$ deveremos minimizar o negativo de $J(\\theta)$. Para o Policy Gradients a função de *loss* que vamos utilizar é dada por:\n",
    "\n",
    "$$\n",
    "\\hat{J}(\\theta) = \\frac{1}{N} \\sum_{k=1}^K \\sum_{t=0}^{T-1}  \\log \\pi_\\theta(\\mathbf{a}_t^{(k)}|\\mathbf{s}_t^{(k)}) \\hat{R}(\\tau^{(k)})~.\n",
    "$$\n",
    "\n",
    "> **IMPORTANTE**: note que em geral $\\hat{J}(\\theta) \\neq J(\\theta)$, no entanto, $\\nabla_\\theta \\hat{J}(\\theta) \\approx \\nabla_\\theta J(\\theta)$. Essa é a razão pela qual $\\hat{J}$ é chamada de *surrogate loss*; *surrogate* em português significa \"substituto\". "
   ]
  },
  {
   "cell_type": "markdown",
   "metadata": {},
   "source": [
    "---\n",
    "\n",
    "**<font color=\"red\">EXERCÍCIO-PROGRAMA:</font>**\n",
    "\n",
    "Nesse exercício você deverá codificar o método `_loss_fn` da classe `REINFORCE` que será reponsável por implementar a função de *loss* do *Policy Gradient*.\n",
    "\n",
    "> **Nota 1**: observe que cada `batch` corresponde a um dicionário de listas, onde cada lista corresponde a um conjunto de episódios. Por exemplo, `batch[\"states\"][k]` devolve os estados do k-ésimo episódio amostrado.\n",
    "\n",
    "> **Nota 2**: No NumPy e no TensorFlow você pode trabalhar com operações binárias \"vetorizadas\", isto é, você pode por exempo multiplicar 2 conjuntos de vetores `x` e`y` de mesmo tamanho (e.g., `x.shape == y.shape == (N, dim)`, onde `N` representa o número de vetores e `dim` o tamanho do vetor) simplesmente executando `x * y`. Essa técnica é conhecida como *[broadcasting](https://docs.scipy.org/doc/numpy/user/basics.broadcasting.html)* de vetores (ou array n-dimensionais no caso mais geral).\n",
    "\n",
    "> **Nota 3**: pode ser útil utilizar as funções de agregação `np.sum` e `tf.reduce_sum`.\n"
   ]
  },
  {
   "cell_type": "code",
   "execution_count": 15,
   "metadata": {},
   "outputs": [],
   "source": [
    "class REINFORCE(RLAgent):\n",
    "    \"\"\"\n",
    "    Classe que implementa os componentes de um agente que aprende pelo REINFORCE.\n",
    "\n",
    "    Args:\n",
    "        obs_space:     especificação do espaço de observações do ambiente.\n",
    "        action_space:  especificação do espaço de ações do ambiente.\n",
    "        config (dict): (opcional) configurações de hiper-parâmetros.\n",
    "    \"\"\"\n",
    "    \n",
    "    def __init__(self, obs_space, action_space, config=None):\n",
    "        super(REINFORCE, self).__init__(obs_space, action_space, config)\n",
    "        \n",
    "        self.memory = OnPolicyReplay()\n",
    "        self.policy = build_discrete_policy(self.obs_space, self.action_space, config[\"hidden_layers\"], config[\"activation\"])\n",
    "        self.optimizer = tf.keras.optimizers.Adam(learning_rate=config[\"learning_rate\"])\n",
    "\n",
    "    def act(self, obs):\n",
    "        \"\"\"\n",
    "        Escolhe uma ação para ser tomada dada uma observação do ambiente.\n",
    "        \n",
    "        Args: \n",
    "            obs: observação do ambiente.\n",
    "        \n",
    "        Return:\n",
    "            action: ação válida dentro do espaço de ações.\n",
    "        \"\"\"\n",
    "\n",
    "        return self._act(obs).numpy()\n",
    "    \n",
    "    @tf.function\n",
    "    def _act(self, obs):\n",
    "        action_dist = self.policy(obs[None,:])\n",
    "        return action_dist.sample()[0]\n",
    "\n",
    "    def observe(self, obs, action, reward, next_obs, done):\n",
    "        \"\"\"\n",
    "        Registra na memória do agente uma transição do ambiente.\n",
    "\n",
    "        Args:\n",
    "            obs:            observação do ambiente antes da execução da ação.\n",
    "            action:         ação escolhida pelo agente.\n",
    "            reward (float): escalar indicando a recompensa obtida após a execução da ação.\n",
    "            next_obs:       nova observação recebida do ambiente após a execução da ação.\n",
    "            done (bool):    True se a nova observação corresponde a um estado terminal, False caso contrário.\n",
    "\n",
    "        Return:\n",
    "            None\n",
    "        \"\"\"\n",
    "        self.memory.update(obs, action, reward, next_obs, done)\n",
    "\n",
    "    def learn(self):\n",
    "        \"\"\"\n",
    "        Método de treinamento do agente. A partir das experiências de sua memória,\n",
    "        o agente aprende um novo comportamento.\n",
    "\n",
    "        Args: \n",
    "            None\n",
    "\n",
    "        Return:\n",
    "            None\n",
    "        \"\"\"     \n",
    "        if self.memory.batch_size < self.config[\"train_batch_size\"]:\n",
    "            return\n",
    "        \n",
    "        batch = self.memory.sample()\n",
    "\n",
    "        with tf.GradientTape() as tape:\n",
    "            loss = self._loss_fn(batch)\n",
    "            gradients = tape.gradient(loss, self.policy.trainable_weights)\n",
    "\n",
    "        self.optimizer.apply_gradients(zip(gradients, self.policy.trainable_weights))\n",
    "        \n",
    "        grad_norm = [(w.name, tf.norm(grad).numpy()) for w, grad in zip(self.policy.trainable_weights, gradients)]\n",
    "      \n",
    "        return loss.numpy(), grad_norm\n",
    "\n",
    "    def _loss_fn(self, batch):\n",
    "        \"\"\"\n",
    "        Calcula a função loss do policy gradients para um `batch` de trajetórias/episódios.\n",
    "        \n",
    "        Um `batch` agrega listas de arrays n-dimensionais. Cada lista (e.g., batch[\"states\"],\n",
    "        batch[\"actions\"], batch[\"rewards\"]) tem o tamanho do número de episódios. Por exemplo,\n",
    "        batch[\"states\"][k] devolve um array n-dimensional para o k-ésimo episódio. Este array\n",
    "        tem como primeira dimensão o número de timesteps do k-ésimo episódio.\n",
    "\n",
    "        Args:\n",
    "            batch (Dict[str, List[np.ndarray]]): dicionário para acesso às listas de estados, ações e recompensas. \n",
    "        \n",
    "        Return:\n",
    "            loss (tf.Tensor): média sobre os episódios do surrogate loss function.\n",
    "            \n",
    "        \"\"\"\n",
    "        \n",
    "        states, actions, rewards = batch[\"states\"], batch[\"actions\"], batch[\"rewards\"]\n",
    "        n_episodes = len(states)\n",
    "\n",
    "        loss = 0.0\n",
    "\n",
    "        # SEU CÓDIGO AQUI ===================================\n",
    "\n",
    "        for k in range(n_episodes):\n",
    "            dist = self.policy(batch[\"states\"][k])\n",
    "            #actions_sample = dist.sample()v# Escrever um texto pra isso\n",
    "            log_prob = dist.log_prob(batch[\"actions\"][k])\n",
    "            \n",
    "            episode_contribution = tf.reduce_sum(np.sum(batch[\"rewards\"][k])*log_prob)\n",
    "            \n",
    "            loss += episode_contribution\n",
    "           \n",
    "        \n",
    "        loss = -loss/n_episodes\n",
    "\n",
    "        # ===================================================\n",
    "\n",
    "        assert loss.shape == (), \"loss deve ser um escalar\"\n",
    "\n",
    "        return loss"
   ]
  },
  {
   "cell_type": "markdown",
   "metadata": {},
   "source": [
    "Para testar a sua implementação, rode o código abaixo. Para os parâmetros definidos abaixo no dicionário de `config`, você deve obter um `avg_loss` entre 300.0 e 600.0. Note que estamos usando simulação de Monte-Carlo então o resultado pode variar um pouco.\n",
    "\n",
    "> **IMPORTANTE**: caso a sua implementação não esteja passando no teste abaixo (em várias tentativas consecutivas) e você achar que sua implementação está correta, chame o monitor ou um dos instrutores. "
   ]
  },
  {
   "cell_type": "code",
   "execution_count": 16,
   "metadata": {},
   "outputs": [
    {
     "name": "stdout",
     "output_type": "stream",
     "text": [
      "[100% /  12s] episode = 100/100 -> total_reward =    53.0000, episode_length = 100\n",
      "[100% /   9s] episode = 100/100 -> total_reward =    54.0000, episode_length = 100\n",
      "[100% /   9s] episode = 100/100 -> total_reward =    50.0000, episode_length = 100\n",
      "[100% /  12s] episode = 100/100 -> total_reward =    45.0000, episode_length = 100\n",
      "[100% /   8s] episode = 100/100 -> total_reward =    58.0000, episode_length = 100\n",
      "[100% /  11s] episode = 100/100 -> total_reward =    47.0000, episode_length = 100\n",
      "[100% /  10s] episode = 100/100 -> total_reward =    46.0000, episode_length = 100\n",
      "[100% /  12s] episode = 100/100 -> total_reward =    55.0000, episode_length = 100\n",
      "[100% /   9s] episode = 100/100 -> total_reward =    55.0000, episode_length = 100\n",
      "[100% /   8s] episode = 100/100 -> total_reward =    57.0000, episode_length = 100\n",
      "Você obteve avg_loss = 0.0.\n",
      "\n",
      ">> Sua implementação está provavelmente correta... Parabéns! :)\n"
     ]
    }
   ],
   "source": [
    "env = gym.make(envname)\n",
    "\n",
    "config = {\n",
    "    # policy net\n",
    "    \"hidden_layers\": [64, 64],\n",
    "    \"activation\": \"relu\",\n",
    "\n",
    "    # optimization\n",
    "    \"learning_rate\": 5e-4,\n",
    "\n",
    "    # training\n",
    "    \"train_batch_size\": 3000,\n",
    "}\n",
    "\n",
    "agent = REINFORCE(env.observation_space, env.action_space, config=config)\n",
    "\n",
    "avg_loss, trials = 0.0, 10\n",
    "for j in range(trials):\n",
    "    n_episodes = 100\n",
    "    _ = utils.runner.evaluate(agent, env, n_episodes, render=False)\n",
    "    #loss = agent._loss_fn(agent.memory.sample())\n",
    "    #avg_loss += loss\n",
    "\n",
    "avg_loss /= trials\n",
    "    \n",
    "print(f\"Você obteve avg_loss = {avg_loss}.\")\n",
    "print(\"\\n>> Sua implementação está provavelmente correta... Parabéns! :)\")"
   ]
  },
  {
   "cell_type": "markdown",
   "metadata": {},
   "source": [
    "---"
   ]
  },
  {
   "cell_type": "markdown",
   "metadata": {},
   "source": [
    "## 4. Treinamento do agente"
   ]
  },
  {
   "cell_type": "markdown",
   "metadata": {},
   "source": [
    "Para treinar o agente seguiremos o algoritmo visto em aula.\n",
    "\n",
    "<img src=\"img/reinforce.png\" alt=\"Agent-Env Loop\" style=\"width: 750px;\"/>\n",
    "\n",
    "No entanto, para agilizar o tutorial e garantir que todos tenham a mesma implementação do ciclo do agente-ambiente, disponibilizados nos métodos `utils.runner.train` e `utils.runner.evaluate` que se encarregam em facilitar a coleta de experiências pelo agente em um ambiente.\n",
    "\n",
    "A função `utils.runner.evaluate` simula um dado número de episódios completos no ambiente a fim de avaliar o retorno médio do agente. Por outro lado, a função `utils.runner.train` coleta o certo número de passos no ambiente e chama o método `learn` do agente que recupera de sua memória um `batch` de experiências para estimar o *policy gradient*.\n",
    "\n",
    "Nessa seção, você não precisará implementar nada para treinar o agente. Mas vai rodar um primeiro experimento mais demorado para avaliar o desempenho do agente.\n",
    "\n",
    "> **Observação**: embora não seja necessário, caso tenha curiosidade em saber mais sobre essas funções você pode acessar o código via o *File Browser* na lateral do Jupyter Lab na pasta `utils/`."
   ]
  },
  {
   "cell_type": "markdown",
   "metadata": {},
   "source": [
    "### 4.1 Otimização & Gradiente Ascendente\n",
    "\n",
    "\n",
    "<img src=\"img/sgd.png\" alt=\"Agent-Env Loop\" style=\"width: 300px;\"/>\n",
    "\n",
    "Para treinar o agente com o algoritmo do *Policy Gradients* iremos usar um método de otimização baseado na técnica de **[Gradiente Ascendente](https://en.wikipedia.org/wiki/Gradient_descent)**:\n",
    "\n",
    "$$\n",
    "\\theta \\leftarrow \\theta + \\alpha \\nabla_\\theta J(\\theta)\n",
    "$$\n",
    "\n",
    "Se você prestou atenção na definição da classe `REINFORCE` deve ter notado que:\n",
    "1. No construtor `__init__` da classe é instanciado um otimizador `self.optimizer = tf.keras.optimizers.Adam(learning_rate=...)`; e\n",
    "2. No método `learn`, o otimizador é chamado para aplicar os gradients `self.optimizer.apply_gradients(...`).\n",
    "\n",
    "Nessa parte prática optamos por usar um dos otimizadores mais utilizados em aprendizado por máquina, e.g., [Adam](https://www.tensorflow.org/api_docs/python/tf/keras/optimizers/Adam).\n",
    "\n",
    "> **IMPORTANTE**: não precisaremos implementar o algoritmo de gradiente ascendente, isto é, o otimizador irá se encarregar disso para nós!\n",
    "\n",
    "> **Observação**: a bilioteca do TensorFlow conta com inúmeros outros otimizadores (e.g., https://www.tensorflow.org/api_docs/python/tf/keras/optimizers).Uma apresentação mais detalha desses otimizadores está fora do escopo desse curso. Para aqueles interessados em aprender sobre otimizadores, sugerimos o tutorial disponível em https://ruder.io/optimizing-gradient-descent/.\n"
   ]
  },
  {
   "cell_type": "markdown",
   "metadata": {},
   "source": [
    "### 4.2 Avaliação do agente (antes do treinamento) "
   ]
  },
  {
   "cell_type": "markdown",
   "metadata": {},
   "source": [
    "Reinicialize o agente executando o código abaixo:"
   ]
  },
  {
   "cell_type": "code",
   "execution_count": 17,
   "metadata": {},
   "outputs": [],
   "source": [
    "env = gym.make(envname)\n",
    "\n",
    "config = {\n",
    "    # policy net\n",
    "    \"hidden_layers\": [64, 64],\n",
    "    \"activation\": \"relu\",\n",
    "\n",
    "    # optimization\n",
    "    \"learning_rate\": 5e-4,\n",
    "\n",
    "    # training\n",
    "    \"train_batch_size\": 3000,\n",
    "}\n",
    "\n",
    "agent = REINFORCE(env.observation_space, env.action_space, config=config)"
   ]
  },
  {
   "cell_type": "markdown",
   "metadata": {},
   "source": [
    "Antes de treinarmos o agente, é importante ter alguma referência sobre seu desempenho inicial. Execute o código abaixo para coletar `n_episodes` e obter o retorno médio por episódio."
   ]
  },
  {
   "cell_type": "code",
   "execution_count": 18,
   "metadata": {},
   "outputs": [
    {
     "name": "stdout",
     "output_type": "stream",
     "text": [
      "[100% /  92s] episode = 1000/1000 -> total_reward =    43.0000, episode_length = 100\n",
      "\n",
      ">> O retorno médio obtido em 1000 episódios foi 48.31\n",
      ">> Note que para o problema ser considerado resolvido seria necessário obter pelo menos None\n"
     ]
    }
   ],
   "source": [
    "n_episodes = 1000\n",
    "_, total_rewards, _ = utils.runner.evaluate(agent, env, n_episodes, render=False)\n",
    "batch = agent.memory.sample()\n",
    "\n",
    "print(f\"\\n>> O retorno médio obtido em {n_episodes} episódios foi {np.mean(total_rewards)}\")\n",
    "print(f\">> Note que para o problema ser considerado resolvido seria necessário obter pelo menos {env.spec.reward_threshold}\")"
   ]
  },
  {
   "cell_type": "markdown",
   "metadata": {},
   "source": [
    "Outro ponto importante para se ter em mente antes do treinamento é a inicialização da política. É fundamental iniciar o treinamento com uma política que aproxima uma distribuição uniforme. Dessa forma, garantimos que o agente começará a interagir com o ambiente sem estar enviesado em suas escolhas das ações.\n",
    "\n",
    "Execute o comando abaixo para avaliar as distribuições das ações para algumas observações que você acabou de coletar. Verifique que independentemente da observação, o agente não tem nenhuma predileção muito forte por certa ação. "
   ]
  },
  {
   "cell_type": "code",
   "execution_count": 19,
   "metadata": {},
   "outputs": [
    {
     "data": {
      "text/html": [
       "\n",
       "\n",
       "\n",
       "\n",
       "\n",
       "\n",
       "  <div class=\"bk-root\" id=\"247ba158-b079-46ed-bf32-b0b6f48755c9\" data-root-id=\"1581\"></div>\n"
      ]
     },
     "metadata": {},
     "output_type": "display_data"
    },
    {
     "data": {
      "application/javascript": [
       "(function(root) {\n",
       "  function embed_document(root) {\n",
       "    \n",
       "  var docs_json = {\"0c2398cf-4554-430b-a1a4-38cc0f3dd0b5\":{\"roots\":{\"references\":[{\"attributes\":{\"children\":[{\"id\":\"1580\"},{\"id\":\"1578\"}]},\"id\":\"1581\",\"type\":\"Column\"},{\"attributes\":{},\"id\":\"1532\",\"type\":\"BasicTickFormatter\"},{\"attributes\":{\"bottom\":{\"value\":0},\"fill_alpha\":{\"value\":0.1},\"fill_color\":{\"value\":\"#1f77b4\"},\"left\":{\"field\":\"left\"},\"line_alpha\":{\"value\":0.1},\"line_color\":{\"value\":\"white\"},\"right\":{\"field\":\"right\"},\"top\":{\"field\":\"top\"}},\"id\":\"1359\",\"type\":\"Quad\"},{\"attributes\":{\"below\":[{\"id\":\"1373\"}],\"center\":[{\"id\":\"1376\"},{\"id\":\"1380\"}],\"left\":[{\"id\":\"1377\"}],\"plot_height\":200,\"plot_width\":250,\"renderers\":[{\"id\":\"1400\"}],\"title\":{\"id\":\"1363\"},\"toolbar\":{\"id\":\"1388\"},\"toolbar_location\":null,\"x_range\":{\"id\":\"1365\"},\"x_scale\":{\"id\":\"1369\"},\"y_range\":{\"id\":\"1367\"},\"y_scale\":{\"id\":\"1371\"}},\"id\":\"1362\",\"subtype\":\"Figure\",\"type\":\"Plot\"},{\"attributes\":{\"text\":\"obs = [1.00, 0.00]\"},\"id\":\"1323\",\"type\":\"Title\"},{\"attributes\":{},\"id\":\"1534\",\"type\":\"Selection\"},{\"attributes\":{},\"id\":\"1325\",\"type\":\"DataRange1d\"},{\"attributes\":{},\"id\":\"1535\",\"type\":\"UnionRenderers\"},{\"attributes\":{},\"id\":\"1329\",\"type\":\"LinearScale\"},{\"attributes\":{},\"id\":\"1540\",\"type\":\"BasicTickFormatter\"},{\"attributes\":{},\"id\":\"1327\",\"type\":\"DataRange1d\"},{\"attributes\":{},\"id\":\"1539\",\"type\":\"BasicTickFormatter\"},{\"attributes\":{},\"id\":\"1542\",\"type\":\"Selection\"},{\"attributes\":{},\"id\":\"1543\",\"type\":\"UnionRenderers\"},{\"attributes\":{},\"id\":\"1331\",\"type\":\"LinearScale\"},{\"attributes\":{},\"id\":\"1548\",\"type\":\"BasicTickFormatter\"},{\"attributes\":{\"axis_label\":\"Actions\",\"formatter\":{\"id\":\"1547\"},\"major_label_overrides\":{\"0.25\":\"0\",\"0.75\":\"1\"},\"ticker\":{\"id\":\"1355\"}},\"id\":\"1333\",\"type\":\"LinearAxis\"},{\"attributes\":{\"axis\":{\"id\":\"1337\"},\"dimension\":1,\"ticker\":null},\"id\":\"1340\",\"type\":\"Grid\"},{\"attributes\":{},\"id\":\"1547\",\"type\":\"BasicTickFormatter\"},{\"attributes\":{},\"id\":\"1550\",\"type\":\"Selection\"},{\"attributes\":{\"axis\":{\"id\":\"1333\"},\"ticker\":null,\"visible\":false},\"id\":\"1336\",\"type\":\"Grid\"},{\"attributes\":{},\"id\":\"1551\",\"type\":\"UnionRenderers\"},{\"attributes\":{},\"id\":\"1338\",\"type\":\"BasicTicker\"},{\"attributes\":{\"axis_label\":\"Action Distribution\",\"formatter\":{\"id\":\"1548\"},\"ticker\":{\"id\":\"1338\"}},\"id\":\"1337\",\"type\":\"LinearAxis\"},{\"attributes\":{},\"id\":\"1558\",\"type\":\"Selection\"},{\"attributes\":{\"bottom\":{\"value\":0},\"fill_alpha\":{\"value\":0.5},\"fill_color\":{\"value\":\"#1f77b4\"},\"left\":{\"field\":\"left\"},\"line_alpha\":{\"value\":0.5},\"line_color\":{\"value\":\"white\"},\"right\":{\"field\":\"right\"},\"top\":{\"field\":\"top\"}},\"id\":\"1358\",\"type\":\"Quad\"},{\"attributes\":{},\"id\":\"1556\",\"type\":\"BasicTickFormatter\"},{\"attributes\":{\"ticks\":[0.25,0.75]},\"id\":\"1355\",\"type\":\"FixedTicker\"},{\"attributes\":{\"data_source\":{\"id\":\"1357\"},\"glyph\":{\"id\":\"1358\"},\"hover_glyph\":null,\"muted_glyph\":null,\"nonselection_glyph\":{\"id\":\"1359\"},\"selection_glyph\":null,\"view\":{\"id\":\"1361\"}},\"id\":\"1360\",\"type\":\"GlyphRenderer\"},{\"attributes\":{},\"id\":\"1559\",\"type\":\"UnionRenderers\"},{\"attributes\":{},\"id\":\"1564\",\"type\":\"BasicTickFormatter\"},{\"attributes\":{\"data\":{\"left\":{\"__ndarray__\":\"AAAAAAAAAAAAAAAAAADgPw==\",\"dtype\":\"float64\",\"shape\":[2]},\"right\":{\"__ndarray__\":\"AAAAAAAA4D8AAAAAAADwPw==\",\"dtype\":\"float64\",\"shape\":[2]},\"top\":{\"__ndarray__\":\"XgFyr7mQ7D9R/0Yoo7fxPw==\",\"dtype\":\"float64\",\"shape\":[2]}},\"selected\":{\"id\":\"1550\"},\"selection_policy\":{\"id\":\"1551\"}},\"id\":\"1357\",\"type\":\"ColumnDataSource\"},{\"attributes\":{},\"id\":\"1563\",\"type\":\"BasicTickFormatter\"},{\"attributes\":{},\"id\":\"1341\",\"type\":\"PanTool\"},{\"attributes\":{},\"id\":\"1566\",\"type\":\"Selection\"},{\"attributes\":{},\"id\":\"1342\",\"type\":\"WheelZoomTool\"},{\"attributes\":{},\"id\":\"1567\",\"type\":\"UnionRenderers\"},{\"attributes\":{\"overlay\":{\"id\":\"1347\"}},\"id\":\"1343\",\"type\":\"BoxZoomTool\"},{\"attributes\":{},\"id\":\"1572\",\"type\":\"BasicTickFormatter\"},{\"attributes\":{},\"id\":\"1344\",\"type\":\"SaveTool\"},{\"attributes\":{},\"id\":\"1571\",\"type\":\"BasicTickFormatter\"},{\"attributes\":{},\"id\":\"1345\",\"type\":\"ResetTool\"},{\"attributes\":{},\"id\":\"1574\",\"type\":\"Selection\"},{\"attributes\":{},\"id\":\"1575\",\"type\":\"UnionRenderers\"},{\"attributes\":{},\"id\":\"1346\",\"type\":\"HelpTool\"},{\"attributes\":{\"active_drag\":\"auto\",\"active_inspect\":\"auto\",\"active_multi\":null,\"active_scroll\":\"auto\",\"active_tap\":\"auto\",\"tools\":[{\"id\":\"1341\"},{\"id\":\"1342\"},{\"id\":\"1343\"},{\"id\":\"1344\"},{\"id\":\"1345\"},{\"id\":\"1346\"}]},\"id\":\"1348\",\"type\":\"Toolbar\"},{\"attributes\":{},\"id\":\"1382\",\"type\":\"WheelZoomTool\"},{\"attributes\":{\"ticks\":[0.25,0.75]},\"id\":\"1395\",\"type\":\"FixedTicker\"},{\"attributes\":{\"bottom\":{\"value\":0},\"fill_alpha\":{\"value\":0.1},\"fill_color\":{\"value\":\"#1f77b4\"},\"left\":{\"field\":\"left\"},\"line_alpha\":{\"value\":0.1},\"line_color\":{\"value\":\"white\"},\"right\":{\"field\":\"right\"},\"top\":{\"field\":\"top\"}},\"id\":\"1399\",\"type\":\"Quad\"},{\"attributes\":{\"data\":{\"left\":{\"__ndarray__\":\"AAAAAAAAAAAAAAAAAADgPw==\",\"dtype\":\"float64\",\"shape\":[2]},\"right\":{\"__ndarray__\":\"AAAAAAAA4D8AAAAAAADwPw==\",\"dtype\":\"float64\",\"shape\":[2]},\"top\":{\"__ndarray__\":\"PVH/Riij7z9iV4Dcay7wPw==\",\"dtype\":\"float64\",\"shape\":[2]}},\"selected\":{\"id\":\"1558\"},\"selection_policy\":{\"id\":\"1559\"}},\"id\":\"1397\",\"type\":\"ColumnDataSource\"},{\"attributes\":{\"ticks\":[0.25,0.75]},\"id\":\"1035\",\"type\":\"FixedTicker\"},{\"attributes\":{},\"id\":\"1381\",\"type\":\"PanTool\"},{\"attributes\":{\"axis\":{\"id\":\"1377\"},\"dimension\":1,\"ticker\":null},\"id\":\"1380\",\"type\":\"Grid\"},{\"attributes\":{\"bottom_units\":\"screen\",\"fill_alpha\":0.5,\"fill_color\":\"lightgrey\",\"left_units\":\"screen\",\"level\":\"overlay\",\"line_alpha\":1.0,\"line_color\":\"black\",\"line_dash\":[4,4],\"line_width\":2,\"render_mode\":\"css\",\"right_units\":\"screen\",\"top_units\":\"screen\"},\"id\":\"1347\",\"type\":\"BoxAnnotation\"},{\"attributes\":{\"active_drag\":\"auto\",\"active_inspect\":\"auto\",\"active_multi\":null,\"active_scroll\":\"auto\",\"active_tap\":\"auto\",\"tools\":[{\"id\":\"1141\"},{\"id\":\"1142\"},{\"id\":\"1143\"},{\"id\":\"1144\"},{\"id\":\"1145\"},{\"id\":\"1146\"}]},\"id\":\"1148\",\"type\":\"Toolbar\"},{\"attributes\":{},\"id\":\"1085\",\"type\":\"DataRange1d\"},{\"attributes\":{},\"id\":\"1089\",\"type\":\"LinearScale\"},{\"attributes\":{},\"id\":\"1009\",\"type\":\"LinearScale\"},{\"attributes\":{\"data\":{\"left\":{\"__ndarray__\":\"AAAAAAAAAAAAAAAAAADgPw==\",\"dtype\":\"float64\",\"shape\":[2]},\"right\":{\"__ndarray__\":\"AAAAAAAA4D8AAAAAAADwPw==\",\"dtype\":\"float64\",\"shape\":[2]},\"top\":{\"__ndarray__\":\"iM+wK0Du7T88mCfq3wjxPw==\",\"dtype\":\"float64\",\"shape\":[2]}},\"selected\":{\"id\":\"1518\"},\"selection_policy\":{\"id\":\"1519\"}},\"id\":\"1197\",\"type\":\"ColumnDataSource\"},{\"attributes\":{},\"id\":\"1141\",\"type\":\"PanTool\"},{\"attributes\":{},\"id\":\"1142\",\"type\":\"WheelZoomTool\"},{\"attributes\":{},\"id\":\"1087\",\"type\":\"DataRange1d\"},{\"attributes\":{},\"id\":\"1011\",\"type\":\"LinearScale\"},{\"attributes\":{\"overlay\":{\"id\":\"1147\"}},\"id\":\"1143\",\"type\":\"BoxZoomTool\"},{\"attributes\":{},\"id\":\"1144\",\"type\":\"SaveTool\"},{\"attributes\":{},\"id\":\"1091\",\"type\":\"LinearScale\"},{\"attributes\":{},\"id\":\"1145\",\"type\":\"ResetTool\"},{\"attributes\":{\"axis_label\":\"Actions\",\"formatter\":{\"id\":\"1499\"},\"major_label_overrides\":{\"0.25\":\"0\",\"0.75\":\"1\"},\"ticker\":{\"id\":\"1115\"}},\"id\":\"1093\",\"type\":\"LinearAxis\"},{\"attributes\":{\"axis\":{\"id\":\"1097\"},\"dimension\":1,\"ticker\":null},\"id\":\"1100\",\"type\":\"Grid\"},{\"attributes\":{},\"id\":\"1146\",\"type\":\"HelpTool\"},{\"attributes\":{\"axis\":{\"id\":\"1093\"},\"ticker\":null,\"visible\":false},\"id\":\"1096\",\"type\":\"Grid\"},{\"attributes\":{\"data\":{\"left\":{\"__ndarray__\":\"AAAAAAAAAAAAAAAAAADgPw==\",\"dtype\":\"float64\",\"shape\":[2]},\"right\":{\"__ndarray__\":\"AAAAAAAA4D8AAAAAAADwPw==\",\"dtype\":\"float64\",\"shape\":[2]},\"top\":{\"__ndarray__\":\"fT81XrpJ7D9CYOXQItvxPw==\",\"dtype\":\"float64\",\"shape\":[2]}},\"selected\":{\"id\":\"1486\"},\"selection_policy\":{\"id\":\"1487\"}},\"id\":\"1037\",\"type\":\"ColumnDataSource\"},{\"attributes\":{\"data\":{\"left\":{\"__ndarray__\":\"AAAAAAAAAAAAAAAAAADgPw==\",\"dtype\":\"float64\",\"shape\":[2]},\"right\":{\"__ndarray__\":\"AAAAAAAA4D8AAAAAAADwPw==\",\"dtype\":\"float64\",\"shape\":[2]},\"top\":{\"__ndarray__\":\"meDBPFH/7j+0D59hV4DwPw==\",\"dtype\":\"float64\",\"shape\":[2]}},\"selected\":{\"id\":\"1494\"},\"selection_policy\":{\"id\":\"1495\"}},\"id\":\"1077\",\"type\":\"ColumnDataSource\"},{\"attributes\":{},\"id\":\"1098\",\"type\":\"BasicTicker\"},{\"attributes\":{\"axis_label\":\"Action Distribution\",\"formatter\":{\"id\":\"1500\"},\"ticker\":{\"id\":\"1098\"}},\"id\":\"1097\",\"type\":\"LinearAxis\"},{\"attributes\":{\"data\":{\"left\":{\"__ndarray__\":\"AAAAAAAAAAAAAAAAAADgPw==\",\"dtype\":\"float64\",\"shape\":[2]},\"right\":{\"__ndarray__\":\"AAAAAAAA4D8AAAAAAADwPw==\",\"dtype\":\"float64\",\"shape\":[2]},\"top\":{\"__ndarray__\":\"9uEz7AqQ6z8FD+aJ+jfyPw==\",\"dtype\":\"float64\",\"shape\":[2]}},\"selected\":{\"id\":\"1526\"},\"selection_policy\":{\"id\":\"1527\"}},\"id\":\"1237\",\"type\":\"ColumnDataSource\"},{\"attributes\":{\"source\":{\"id\":\"1037\"}},\"id\":\"1041\",\"type\":\"CDSView\"},{\"attributes\":{\"ticks\":[0.25,0.75]},\"id\":\"1115\",\"type\":\"FixedTicker\"},{\"attributes\":{},\"id\":\"1207\",\"type\":\"DataRange1d\"},{\"attributes\":{\"text\":\"obs = [0.00, 1.00]\"},\"id\":\"1043\",\"type\":\"Title\"},{\"attributes\":{\"axis\":{\"id\":\"1213\"},\"ticker\":null,\"visible\":false},\"id\":\"1216\",\"type\":\"Grid\"},{\"attributes\":{\"bottom\":{\"value\":0},\"fill_alpha\":{\"value\":0.1},\"fill_color\":{\"value\":\"#1f77b4\"},\"left\":{\"field\":\"left\"},\"line_alpha\":{\"value\":0.1},\"line_color\":{\"value\":\"white\"},\"right\":{\"field\":\"right\"},\"top\":{\"field\":\"top\"}},\"id\":\"1119\",\"type\":\"Quad\"},{\"attributes\":{},\"id\":\"1211\",\"type\":\"LinearScale\"},{\"attributes\":{\"axis_label\":\"Action Distribution\",\"formatter\":{\"id\":\"1524\"},\"ticker\":{\"id\":\"1218\"}},\"id\":\"1217\",\"type\":\"LinearAxis\"},{\"attributes\":{\"source\":{\"id\":\"1117\"}},\"id\":\"1121\",\"type\":\"CDSView\"},{\"attributes\":{\"active_drag\":\"auto\",\"active_inspect\":\"auto\",\"active_multi\":null,\"active_scroll\":\"auto\",\"active_tap\":\"auto\",\"tools\":[{\"id\":\"1101\"},{\"id\":\"1102\"},{\"id\":\"1103\"},{\"id\":\"1104\"},{\"id\":\"1105\"},{\"id\":\"1106\"}]},\"id\":\"1108\",\"type\":\"Toolbar\"},{\"attributes\":{\"data\":{\"left\":{\"__ndarray__\":\"AAAAAAAAAAAAAAAAAADgPw==\",\"dtype\":\"float64\",\"shape\":[2]},\"right\":{\"__ndarray__\":\"AAAAAAAA4D8AAAAAAADwPw==\",\"dtype\":\"float64\",\"shape\":[2]},\"top\":{\"__ndarray__\":\"oNMGOm2g6z8wlvxiyS/yPw==\",\"dtype\":\"float64\",\"shape\":[2]}},\"selected\":{\"id\":\"1502\"},\"selection_policy\":{\"id\":\"1503\"}},\"id\":\"1117\",\"type\":\"ColumnDataSource\"},{\"attributes\":{},\"id\":\"1047\",\"type\":\"DataRange1d\"},{\"attributes\":{\"bottom\":{\"value\":0},\"fill_alpha\":{\"value\":0.5},\"fill_color\":{\"value\":\"#1f77b4\"},\"left\":{\"field\":\"left\"},\"line_alpha\":{\"value\":0.5},\"line_color\":{\"value\":\"white\"},\"right\":{\"field\":\"right\"},\"top\":{\"field\":\"top\"}},\"id\":\"1238\",\"type\":\"Quad\"},{\"attributes\":{\"axis_label\":\"Actions\",\"formatter\":{\"id\":\"1523\"},\"major_label_overrides\":{\"0.25\":\"0\",\"0.75\":\"1\"},\"ticker\":{\"id\":\"1235\"}},\"id\":\"1213\",\"type\":\"LinearAxis\"},{\"attributes\":{},\"id\":\"1101\",\"type\":\"PanTool\"},{\"attributes\":{},\"id\":\"1205\",\"type\":\"DataRange1d\"},{\"attributes\":{},\"id\":\"1102\",\"type\":\"WheelZoomTool\"},{\"attributes\":{\"bottom_units\":\"screen\",\"fill_alpha\":0.5,\"fill_color\":\"lightgrey\",\"left_units\":\"screen\",\"level\":\"overlay\",\"line_alpha\":1.0,\"line_color\":\"black\",\"line_dash\":[4,4],\"line_width\":2,\"render_mode\":\"css\",\"right_units\":\"screen\",\"top_units\":\"screen\"},\"id\":\"1147\",\"type\":\"BoxAnnotation\"},{\"attributes\":{\"overlay\":{\"id\":\"1107\"}},\"id\":\"1103\",\"type\":\"BoxZoomTool\"},{\"attributes\":{},\"id\":\"1209\",\"type\":\"LinearScale\"},{\"attributes\":{},\"id\":\"1104\",\"type\":\"SaveTool\"},{\"attributes\":{\"data_source\":{\"id\":\"1157\"},\"glyph\":{\"id\":\"1158\"},\"hover_glyph\":null,\"muted_glyph\":null,\"nonselection_glyph\":{\"id\":\"1159\"},\"selection_glyph\":null,\"view\":{\"id\":\"1161\"}},\"id\":\"1160\",\"type\":\"GlyphRenderer\"},{\"attributes\":{\"axis\":{\"id\":\"1013\"},\"ticker\":null,\"visible\":false},\"id\":\"1016\",\"type\":\"Grid\"},{\"attributes\":{\"text\":\"obs = [0.00, 1.00]\"},\"id\":\"1163\",\"type\":\"Title\"},{\"attributes\":{},\"id\":\"1105\",\"type\":\"ResetTool\"},{\"attributes\":{\"data_source\":{\"id\":\"1037\"},\"glyph\":{\"id\":\"1038\"},\"hover_glyph\":null,\"muted_glyph\":null,\"nonselection_glyph\":{\"id\":\"1039\"},\"selection_glyph\":null,\"view\":{\"id\":\"1041\"}},\"id\":\"1040\",\"type\":\"GlyphRenderer\"},{\"attributes\":{},\"id\":\"1106\",\"type\":\"HelpTool\"},{\"attributes\":{\"bottom\":{\"value\":0},\"fill_alpha\":{\"value\":0.1},\"fill_color\":{\"value\":\"#1f77b4\"},\"left\":{\"field\":\"left\"},\"line_alpha\":{\"value\":0.1},\"line_color\":{\"value\":\"white\"},\"right\":{\"field\":\"right\"},\"top\":{\"field\":\"top\"}},\"id\":\"1159\",\"type\":\"Quad\"},{\"attributes\":{\"below\":[{\"id\":\"1213\"}],\"center\":[{\"id\":\"1216\"},{\"id\":\"1220\"}],\"left\":[{\"id\":\"1217\"}],\"plot_height\":200,\"plot_width\":250,\"renderers\":[{\"id\":\"1240\"}],\"title\":{\"id\":\"1203\"},\"toolbar\":{\"id\":\"1228\"},\"toolbar_location\":null,\"x_range\":{\"id\":\"1205\"},\"x_scale\":{\"id\":\"1209\"},\"y_range\":{\"id\":\"1207\"},\"y_scale\":{\"id\":\"1211\"}},\"id\":\"1202\",\"subtype\":\"Figure\",\"type\":\"Plot\"},{\"attributes\":{\"text\":\"obs = [1.00, 0.00]\"},\"id\":\"1003\",\"type\":\"Title\"},{\"attributes\":{\"source\":{\"id\":\"1157\"}},\"id\":\"1161\",\"type\":\"CDSView\"},{\"attributes\":{},\"id\":\"1165\",\"type\":\"DataRange1d\"},{\"attributes\":{\"below\":[{\"id\":\"1093\"}],\"center\":[{\"id\":\"1096\"},{\"id\":\"1100\"}],\"left\":[{\"id\":\"1097\"}],\"plot_height\":200,\"plot_width\":250,\"renderers\":[{\"id\":\"1120\"}],\"title\":{\"id\":\"1083\"},\"toolbar\":{\"id\":\"1108\"},\"toolbar_location\":null,\"x_range\":{\"id\":\"1085\"},\"x_scale\":{\"id\":\"1089\"},\"y_range\":{\"id\":\"1087\"},\"y_scale\":{\"id\":\"1091\"}},\"id\":\"1082\",\"subtype\":\"Figure\",\"type\":\"Plot\"},{\"attributes\":{\"axis_label\":\"Actions\",\"formatter\":{\"id\":\"1507\"},\"major_label_overrides\":{\"0.25\":\"0\",\"0.75\":\"1\"},\"ticker\":{\"id\":\"1155\"}},\"id\":\"1133\",\"type\":\"LinearAxis\"},{\"attributes\":{},\"id\":\"1169\",\"type\":\"LinearScale\"},{\"attributes\":{\"text\":\"obs = [0.00, 1.00]\"},\"id\":\"1123\",\"type\":\"Title\"},{\"attributes\":{},\"id\":\"1129\",\"type\":\"LinearScale\"},{\"attributes\":{},\"id\":\"1167\",\"type\":\"DataRange1d\"},{\"attributes\":{},\"id\":\"1005\",\"type\":\"DataRange1d\"},{\"attributes\":{},\"id\":\"1125\",\"type\":\"DataRange1d\"},{\"attributes\":{},\"id\":\"1131\",\"type\":\"LinearScale\"},{\"attributes\":{},\"id\":\"1127\",\"type\":\"DataRange1d\"},{\"attributes\":{},\"id\":\"1171\",\"type\":\"LinearScale\"},{\"attributes\":{\"axis\":{\"id\":\"1177\"},\"dimension\":1,\"ticker\":null},\"id\":\"1180\",\"type\":\"Grid\"},{\"attributes\":{\"axis_label\":\"Action Distribution\",\"formatter\":{\"id\":\"1484\"},\"ticker\":{\"id\":\"1018\"}},\"id\":\"1017\",\"type\":\"LinearAxis\"},{\"attributes\":{\"axis_label\":\"Actions\",\"formatter\":{\"id\":\"1515\"},\"major_label_overrides\":{\"0.25\":\"0\",\"0.75\":\"1\"},\"ticker\":{\"id\":\"1195\"}},\"id\":\"1173\",\"type\":\"LinearAxis\"},{\"attributes\":{\"bottom\":{\"value\":0},\"fill_alpha\":{\"value\":0.5},\"fill_color\":{\"value\":\"#1f77b4\"},\"left\":{\"field\":\"left\"},\"line_alpha\":{\"value\":0.5},\"line_color\":{\"value\":\"white\"},\"right\":{\"field\":\"right\"},\"top\":{\"field\":\"top\"}},\"id\":\"1158\",\"type\":\"Quad\"},{\"attributes\":{\"below\":[{\"id\":\"1173\"}],\"center\":[{\"id\":\"1176\"},{\"id\":\"1180\"}],\"left\":[{\"id\":\"1177\"}],\"plot_height\":200,\"plot_width\":250,\"renderers\":[{\"id\":\"1200\"}],\"title\":{\"id\":\"1163\"},\"toolbar\":{\"id\":\"1188\"},\"toolbar_location\":null,\"x_range\":{\"id\":\"1165\"},\"x_scale\":{\"id\":\"1169\"},\"y_range\":{\"id\":\"1167\"},\"y_scale\":{\"id\":\"1171\"}},\"id\":\"1162\",\"subtype\":\"Figure\",\"type\":\"Plot\"},{\"attributes\":{\"axis_label\":\"Action Distribution\",\"formatter\":{\"id\":\"1516\"},\"ticker\":{\"id\":\"1178\"}},\"id\":\"1177\",\"type\":\"LinearAxis\"},{\"attributes\":{\"bottom\":{\"value\":0},\"fill_alpha\":{\"value\":0.5},\"fill_color\":{\"value\":\"#1f77b4\"},\"left\":{\"field\":\"left\"},\"line_alpha\":{\"value\":0.5},\"line_color\":{\"value\":\"white\"},\"right\":{\"field\":\"right\"},\"top\":{\"field\":\"top\"}},\"id\":\"1198\",\"type\":\"Quad\"},{\"attributes\":{\"bottom_units\":\"screen\",\"fill_alpha\":0.5,\"fill_color\":\"lightgrey\",\"left_units\":\"screen\",\"level\":\"overlay\",\"line_alpha\":1.0,\"line_color\":\"black\",\"line_dash\":[4,4],\"line_width\":2,\"render_mode\":\"css\",\"right_units\":\"screen\",\"top_units\":\"screen\"},\"id\":\"1107\",\"type\":\"BoxAnnotation\"},{\"attributes\":{\"below\":[{\"id\":\"1133\"}],\"center\":[{\"id\":\"1136\"},{\"id\":\"1140\"}],\"left\":[{\"id\":\"1137\"}],\"plot_height\":200,\"plot_width\":250,\"renderers\":[{\"id\":\"1160\"}],\"title\":{\"id\":\"1123\"},\"toolbar\":{\"id\":\"1148\"},\"toolbar_location\":null,\"x_range\":{\"id\":\"1125\"},\"x_scale\":{\"id\":\"1129\"},\"y_range\":{\"id\":\"1127\"},\"y_scale\":{\"id\":\"1131\"}},\"id\":\"1122\",\"subtype\":\"Figure\",\"type\":\"Plot\"},{\"attributes\":{\"axis\":{\"id\":\"1173\"},\"ticker\":null,\"visible\":false},\"id\":\"1176\",\"type\":\"Grid\"},{\"attributes\":{},\"id\":\"1007\",\"type\":\"DataRange1d\"},{\"attributes\":{\"data_source\":{\"id\":\"1117\"},\"glyph\":{\"id\":\"1118\"},\"hover_glyph\":null,\"muted_glyph\":null,\"nonselection_glyph\":{\"id\":\"1119\"},\"selection_glyph\":null,\"view\":{\"id\":\"1121\"}},\"id\":\"1120\",\"type\":\"GlyphRenderer\"},{\"attributes\":{},\"id\":\"1178\",\"type\":\"BasicTicker\"},{\"attributes\":{\"data\":{\"left\":{\"__ndarray__\":\"AAAAAAAAAAAAAAAAAADgPw==\",\"dtype\":\"float64\",\"shape\":[2]},\"right\":{\"__ndarray__\":\"AAAAAAAA4D8AAAAAAADwPw==\",\"dtype\":\"float64\",\"shape\":[2]},\"top\":{\"__ndarray__\":\"oNMGOm2g6z8wlvxiyS/yPw==\",\"dtype\":\"float64\",\"shape\":[2]}},\"selected\":{\"id\":\"1542\"},\"selection_policy\":{\"id\":\"1543\"}},\"id\":\"1317\",\"type\":\"ColumnDataSource\"},{\"attributes\":{\"source\":{\"id\":\"1197\"}},\"id\":\"1201\",\"type\":\"CDSView\"},{\"attributes\":{\"axis_label\":\"Action Distribution\",\"formatter\":{\"id\":\"1540\"},\"ticker\":{\"id\":\"1298\"}},\"id\":\"1297\",\"type\":\"LinearAxis\"},{\"attributes\":{\"text\":\"obs = [1.00, 1.00]\"},\"id\":\"1203\",\"type\":\"Title\"},{\"attributes\":{\"data\":{\"left\":{\"__ndarray__\":\"AAAAAAAAAAAAAAAAAADgPw==\",\"dtype\":\"float64\",\"shape\":[2]},\"right\":{\"__ndarray__\":\"AAAAAAAA4D8AAAAAAADwPw==\",\"dtype\":\"float64\",\"shape\":[2]},\"top\":{\"__ndarray__\":\"YhBYObTI7j/P91PjpZvwPw==\",\"dtype\":\"float64\",\"shape\":[2]}},\"selected\":{\"id\":\"1566\"},\"selection_policy\":{\"id\":\"1567\"}},\"id\":\"1437\",\"type\":\"ColumnDataSource\"},{\"attributes\":{\"active_drag\":\"auto\",\"active_inspect\":\"auto\",\"active_multi\":null,\"active_scroll\":\"auto\",\"active_tap\":\"auto\",\"tools\":[{\"id\":\"1181\"},{\"id\":\"1182\"},{\"id\":\"1183\"},{\"id\":\"1184\"},{\"id\":\"1185\"},{\"id\":\"1186\"}]},\"id\":\"1188\",\"type\":\"Toolbar\"},{\"attributes\":{\"text\":\"obs = [0.00, 0.00]\"},\"id\":\"1363\",\"type\":\"Title\"},{\"attributes\":{},\"id\":\"1298\",\"type\":\"BasicTicker\"},{\"attributes\":{\"below\":[{\"id\":\"1453\"}],\"center\":[{\"id\":\"1456\"},{\"id\":\"1460\"}],\"left\":[{\"id\":\"1457\"}],\"plot_height\":200,\"plot_width\":250,\"renderers\":[{\"id\":\"1480\"}],\"title\":{\"id\":\"1443\"},\"toolbar\":{\"id\":\"1468\"},\"toolbar_location\":null,\"x_range\":{\"id\":\"1445\"},\"x_scale\":{\"id\":\"1449\"},\"y_range\":{\"id\":\"1447\"},\"y_scale\":{\"id\":\"1451\"}},\"id\":\"1442\",\"subtype\":\"Figure\",\"type\":\"Plot\"},{\"attributes\":{\"bottom\":{\"value\":0},\"fill_alpha\":{\"value\":0.5},\"fill_color\":{\"value\":\"#1f77b4\"},\"left\":{\"field\":\"left\"},\"line_alpha\":{\"value\":0.5},\"line_color\":{\"value\":\"white\"},\"right\":{\"field\":\"right\"},\"top\":{\"field\":\"top\"}},\"id\":\"1318\",\"type\":\"Quad\"},{\"attributes\":{\"source\":{\"id\":\"1357\"}},\"id\":\"1361\",\"type\":\"CDSView\"},{\"attributes\":{},\"id\":\"1181\",\"type\":\"PanTool\"},{\"attributes\":{\"axis\":{\"id\":\"1297\"},\"dimension\":1,\"ticker\":null},\"id\":\"1300\",\"type\":\"Grid\"},{\"attributes\":{},\"id\":\"1365\",\"type\":\"DataRange1d\"},{\"attributes\":{\"axis\":{\"id\":\"1293\"},\"ticker\":null,\"visible\":false},\"id\":\"1296\",\"type\":\"Grid\"},{\"attributes\":{},\"id\":\"1369\",\"type\":\"LinearScale\"},{\"attributes\":{},\"id\":\"1182\",\"type\":\"WheelZoomTool\"},{\"attributes\":{\"text\":\"obs = [0.00, 1.00]\"},\"id\":\"1403\",\"type\":\"Title\"},{\"attributes\":{\"bottom_units\":\"screen\",\"fill_alpha\":0.5,\"fill_color\":\"lightgrey\",\"left_units\":\"screen\",\"level\":\"overlay\",\"line_alpha\":1.0,\"line_color\":\"black\",\"line_dash\":[4,4],\"line_width\":2,\"render_mode\":\"css\",\"right_units\":\"screen\",\"top_units\":\"screen\"},\"id\":\"1227\",\"type\":\"BoxAnnotation\"},{\"attributes\":{\"overlay\":{\"id\":\"1187\"}},\"id\":\"1183\",\"type\":\"BoxZoomTool\"},{\"attributes\":{},\"id\":\"1367\",\"type\":\"DataRange1d\"},{\"attributes\":{},\"id\":\"1184\",\"type\":\"SaveTool\"},{\"attributes\":{},\"id\":\"1185\",\"type\":\"ResetTool\"},{\"attributes\":{},\"id\":\"1371\",\"type\":\"LinearScale\"},{\"attributes\":{},\"id\":\"1503\",\"type\":\"UnionRenderers\"},{\"attributes\":{\"bottom\":{\"value\":0},\"fill_alpha\":{\"value\":0.1},\"fill_color\":{\"value\":\"#1f77b4\"},\"left\":{\"field\":\"left\"},\"line_alpha\":{\"value\":0.1},\"line_color\":{\"value\":\"white\"},\"right\":{\"field\":\"right\"},\"top\":{\"field\":\"top\"}},\"id\":\"1279\",\"type\":\"Quad\"},{\"attributes\":{},\"id\":\"1186\",\"type\":\"HelpTool\"},{\"attributes\":{\"axis_label\":\"Actions\",\"formatter\":{\"id\":\"1555\"},\"major_label_overrides\":{\"0.25\":\"0\",\"0.75\":\"1\"},\"ticker\":{\"id\":\"1395\"}},\"id\":\"1373\",\"type\":\"LinearAxis\"},{\"attributes\":{\"text\":\"obs = [0.00, 0.00]\"},\"id\":\"1243\",\"type\":\"Title\"},{\"attributes\":{\"bottom_units\":\"screen\",\"fill_alpha\":0.5,\"fill_color\":\"lightgrey\",\"left_units\":\"screen\",\"level\":\"overlay\",\"line_alpha\":1.0,\"line_color\":\"black\",\"line_dash\":[4,4],\"line_width\":2,\"render_mode\":\"css\",\"right_units\":\"screen\",\"top_units\":\"screen\"},\"id\":\"1467\",\"type\":\"BoxAnnotation\"},{\"attributes\":{\"below\":[{\"id\":\"1293\"}],\"center\":[{\"id\":\"1296\"},{\"id\":\"1300\"}],\"left\":[{\"id\":\"1297\"}],\"plot_height\":200,\"plot_width\":250,\"renderers\":[{\"id\":\"1320\"}],\"title\":{\"id\":\"1283\"},\"toolbar\":{\"id\":\"1308\"},\"toolbar_location\":null,\"x_range\":{\"id\":\"1285\"},\"x_scale\":{\"id\":\"1289\"},\"y_range\":{\"id\":\"1287\"},\"y_scale\":{\"id\":\"1291\"}},\"id\":\"1282\",\"subtype\":\"Figure\",\"type\":\"Plot\"},{\"attributes\":{\"source\":{\"id\":\"1237\"}},\"id\":\"1241\",\"type\":\"CDSView\"},{\"attributes\":{},\"id\":\"1224\",\"type\":\"SaveTool\"},{\"attributes\":{},\"id\":\"1245\",\"type\":\"DataRange1d\"},{\"attributes\":{\"axis\":{\"id\":\"1373\"},\"ticker\":null,\"visible\":false},\"id\":\"1376\",\"type\":\"Grid\"},{\"attributes\":{},\"id\":\"1249\",\"type\":\"LinearScale\"},{\"attributes\":{},\"id\":\"1378\",\"type\":\"BasicTicker\"},{\"attributes\":{},\"id\":\"1225\",\"type\":\"ResetTool\"},{\"attributes\":{\"axis_label\":\"Action Distribution\",\"formatter\":{\"id\":\"1556\"},\"ticker\":{\"id\":\"1378\"}},\"id\":\"1377\",\"type\":\"LinearAxis\"},{\"attributes\":{},\"id\":\"1507\",\"type\":\"BasicTickFormatter\"},{\"attributes\":{},\"id\":\"1515\",\"type\":\"BasicTickFormatter\"},{\"attributes\":{},\"id\":\"1247\",\"type\":\"DataRange1d\"},{\"attributes\":{\"overlay\":{\"id\":\"1227\"}},\"id\":\"1223\",\"type\":\"BoxZoomTool\"},{\"attributes\":{},\"id\":\"1221\",\"type\":\"PanTool\"},{\"attributes\":{},\"id\":\"1222\",\"type\":\"WheelZoomTool\"},{\"attributes\":{},\"id\":\"1251\",\"type\":\"LinearScale\"},{\"attributes\":{},\"id\":\"1508\",\"type\":\"BasicTickFormatter\"},{\"attributes\":{\"bottom_units\":\"screen\",\"fill_alpha\":0.5,\"fill_color\":\"lightgrey\",\"left_units\":\"screen\",\"level\":\"overlay\",\"line_alpha\":1.0,\"line_color\":\"black\",\"line_dash\":[4,4],\"line_width\":2,\"render_mode\":\"css\",\"right_units\":\"screen\",\"top_units\":\"screen\"},\"id\":\"1387\",\"type\":\"BoxAnnotation\"},{\"attributes\":{\"axis_label\":\"Actions\",\"formatter\":{\"id\":\"1531\"},\"major_label_overrides\":{\"0.25\":\"0\",\"0.75\":\"1\"},\"ticker\":{\"id\":\"1275\"}},\"id\":\"1253\",\"type\":\"LinearAxis\"},{\"attributes\":{\"axis\":{\"id\":\"1257\"},\"dimension\":1,\"ticker\":null},\"id\":\"1260\",\"type\":\"Grid\"},{\"attributes\":{\"bottom_units\":\"screen\",\"fill_alpha\":0.5,\"fill_color\":\"lightgrey\",\"left_units\":\"screen\",\"level\":\"overlay\",\"line_alpha\":1.0,\"line_color\":\"black\",\"line_dash\":[4,4],\"line_width\":2,\"render_mode\":\"css\",\"right_units\":\"screen\",\"top_units\":\"screen\"},\"id\":\"1187\",\"type\":\"BoxAnnotation\"},{\"attributes\":{\"data_source\":{\"id\":\"1237\"},\"glyph\":{\"id\":\"1238\"},\"hover_glyph\":null,\"muted_glyph\":null,\"nonselection_glyph\":{\"id\":\"1239\"},\"selection_glyph\":null,\"view\":{\"id\":\"1241\"}},\"id\":\"1240\",\"type\":\"GlyphRenderer\"},{\"attributes\":{\"source\":{\"id\":\"1397\"}},\"id\":\"1401\",\"type\":\"CDSView\"},{\"attributes\":{\"axis\":{\"id\":\"1253\"},\"ticker\":null,\"visible\":false},\"id\":\"1256\",\"type\":\"Grid\"},{\"attributes\":{\"data_source\":{\"id\":\"1397\"},\"glyph\":{\"id\":\"1398\"},\"hover_glyph\":null,\"muted_glyph\":null,\"nonselection_glyph\":{\"id\":\"1399\"},\"selection_glyph\":null,\"view\":{\"id\":\"1401\"}},\"id\":\"1400\",\"type\":\"GlyphRenderer\"},{\"attributes\":{\"bottom\":{\"value\":0},\"fill_alpha\":{\"value\":0.1},\"fill_color\":{\"value\":\"#1f77b4\"},\"left\":{\"field\":\"left\"},\"line_alpha\":{\"value\":0.1},\"line_color\":{\"value\":\"white\"},\"right\":{\"field\":\"right\"},\"top\":{\"field\":\"top\"}},\"id\":\"1239\",\"type\":\"Quad\"},{\"attributes\":{},\"id\":\"1258\",\"type\":\"BasicTicker\"},{\"attributes\":{\"axis_label\":\"Action Distribution\",\"formatter\":{\"id\":\"1532\"},\"ticker\":{\"id\":\"1258\"}},\"id\":\"1257\",\"type\":\"LinearAxis\"},{\"attributes\":{\"bottom\":{\"value\":0},\"fill_alpha\":{\"value\":0.5},\"fill_color\":{\"value\":\"#1f77b4\"},\"left\":{\"field\":\"left\"},\"line_alpha\":{\"value\":0.5},\"line_color\":{\"value\":\"white\"},\"right\":{\"field\":\"right\"},\"top\":{\"field\":\"top\"}},\"id\":\"1278\",\"type\":\"Quad\"},{\"attributes\":{\"ticks\":[0.25,0.75]},\"id\":\"1275\",\"type\":\"FixedTicker\"},{\"attributes\":{\"below\":[{\"id\":\"1413\"}],\"center\":[{\"id\":\"1416\"},{\"id\":\"1420\"}],\"left\":[{\"id\":\"1417\"}],\"plot_height\":200,\"plot_width\":250,\"renderers\":[{\"id\":\"1440\"}],\"title\":{\"id\":\"1403\"},\"toolbar\":{\"id\":\"1428\"},\"toolbar_location\":null,\"x_range\":{\"id\":\"1405\"},\"x_scale\":{\"id\":\"1409\"},\"y_range\":{\"id\":\"1407\"},\"y_scale\":{\"id\":\"1411\"}},\"id\":\"1402\",\"subtype\":\"Figure\",\"type\":\"Plot\"},{\"attributes\":{\"bottom\":{\"value\":0},\"fill_alpha\":{\"value\":0.1},\"fill_color\":{\"value\":\"#1f77b4\"},\"left\":{\"field\":\"left\"},\"line_alpha\":{\"value\":0.1},\"line_color\":{\"value\":\"white\"},\"right\":{\"field\":\"right\"},\"top\":{\"field\":\"top\"}},\"id\":\"1199\",\"type\":\"Quad\"},{\"attributes\":{\"data_source\":{\"id\":\"1197\"},\"glyph\":{\"id\":\"1198\"},\"hover_glyph\":null,\"muted_glyph\":null,\"nonselection_glyph\":{\"id\":\"1199\"},\"selection_glyph\":null,\"view\":{\"id\":\"1201\"}},\"id\":\"1200\",\"type\":\"GlyphRenderer\"},{\"attributes\":{\"data_source\":{\"id\":\"1277\"},\"glyph\":{\"id\":\"1278\"},\"hover_glyph\":null,\"muted_glyph\":null,\"nonselection_glyph\":{\"id\":\"1279\"},\"selection_glyph\":null,\"view\":{\"id\":\"1281\"}},\"id\":\"1280\",\"type\":\"GlyphRenderer\"},{\"attributes\":{\"below\":[{\"id\":\"1253\"}],\"center\":[{\"id\":\"1256\"},{\"id\":\"1260\"}],\"left\":[{\"id\":\"1257\"}],\"plot_height\":200,\"plot_width\":250,\"renderers\":[{\"id\":\"1280\"}],\"title\":{\"id\":\"1243\"},\"toolbar\":{\"id\":\"1268\"},\"toolbar_location\":null,\"x_range\":{\"id\":\"1245\"},\"x_scale\":{\"id\":\"1249\"},\"y_range\":{\"id\":\"1247\"},\"y_scale\":{\"id\":\"1251\"}},\"id\":\"1242\",\"subtype\":\"Figure\",\"type\":\"Plot\"},{\"attributes\":{},\"id\":\"1405\",\"type\":\"DataRange1d\"},{\"attributes\":{},\"id\":\"1409\",\"type\":\"LinearScale\"},{\"attributes\":{\"ticks\":[0.25,0.75]},\"id\":\"1195\",\"type\":\"FixedTicker\"},{\"attributes\":{\"data\":{\"left\":{\"__ndarray__\":\"AAAAAAAAAAAAAAAAAADgPw==\",\"dtype\":\"float64\",\"shape\":[2]},\"right\":{\"__ndarray__\":\"AAAAAAAA4D8AAAAAAADwPw==\",\"dtype\":\"float64\",\"shape\":[2]},\"top\":{\"__ndarray__\":\"AiuHFtnO7z9/arx0kxjwPw==\",\"dtype\":\"float64\",\"shape\":[2]}},\"selected\":{\"id\":\"1534\"},\"selection_policy\":{\"id\":\"1535\"}},\"id\":\"1277\",\"type\":\"ColumnDataSource\"},{\"attributes\":{\"ticks\":[0.25,0.75]},\"id\":\"1235\",\"type\":\"FixedTicker\"},{\"attributes\":{},\"id\":\"1261\",\"type\":\"PanTool\"},{\"attributes\":{},\"id\":\"1407\",\"type\":\"DataRange1d\"},{\"attributes\":{\"axis\":{\"id\":\"1217\"},\"dimension\":1,\"ticker\":null},\"id\":\"1220\",\"type\":\"Grid\"},{\"attributes\":{},\"id\":\"1218\",\"type\":\"BasicTicker\"},{\"attributes\":{},\"id\":\"1262\",\"type\":\"WheelZoomTool\"},{\"attributes\":{\"overlay\":{\"id\":\"1267\"}},\"id\":\"1263\",\"type\":\"BoxZoomTool\"},{\"attributes\":{},\"id\":\"1411\",\"type\":\"LinearScale\"},{\"attributes\":{\"axis_label\":\"Action Distribution\",\"formatter\":{\"id\":\"1564\"},\"ticker\":{\"id\":\"1418\"}},\"id\":\"1417\",\"type\":\"LinearAxis\"},{\"attributes\":{},\"id\":\"1226\",\"type\":\"HelpTool\"},{\"attributes\":{},\"id\":\"1264\",\"type\":\"SaveTool\"},{\"attributes\":{\"axis_label\":\"Actions\",\"formatter\":{\"id\":\"1563\"},\"major_label_overrides\":{\"0.25\":\"0\",\"0.75\":\"1\"},\"ticker\":{\"id\":\"1435\"}},\"id\":\"1413\",\"type\":\"LinearAxis\"},{\"attributes\":{\"active_drag\":\"auto\",\"active_inspect\":\"auto\",\"active_multi\":null,\"active_scroll\":\"auto\",\"active_tap\":\"auto\",\"tools\":[{\"id\":\"1221\"},{\"id\":\"1222\"},{\"id\":\"1223\"},{\"id\":\"1224\"},{\"id\":\"1225\"},{\"id\":\"1226\"}]},\"id\":\"1228\",\"type\":\"Toolbar\"},{\"attributes\":{},\"id\":\"1265\",\"type\":\"ResetTool\"},{\"attributes\":{\"bottom\":{\"value\":0},\"fill_alpha\":{\"value\":0.5},\"fill_color\":{\"value\":\"#1f77b4\"},\"left\":{\"field\":\"left\"},\"line_alpha\":{\"value\":0.5},\"line_color\":{\"value\":\"white\"},\"right\":{\"field\":\"right\"},\"top\":{\"field\":\"top\"}},\"id\":\"1438\",\"type\":\"Quad\"},{\"attributes\":{\"axis\":{\"id\":\"1413\"},\"ticker\":null,\"visible\":false},\"id\":\"1416\",\"type\":\"Grid\"},{\"attributes\":{\"axis_label\":\"Actions\",\"formatter\":{\"id\":\"1539\"},\"major_label_overrides\":{\"0.25\":\"0\",\"0.75\":\"1\"},\"ticker\":{\"id\":\"1315\"}},\"id\":\"1293\",\"type\":\"LinearAxis\"},{\"attributes\":{\"below\":[{\"id\":\"1053\"}],\"center\":[{\"id\":\"1056\"},{\"id\":\"1060\"}],\"left\":[{\"id\":\"1057\"}],\"plot_height\":200,\"plot_width\":250,\"renderers\":[{\"id\":\"1080\"}],\"title\":{\"id\":\"1043\"},\"toolbar\":{\"id\":\"1068\"},\"toolbar_location\":null,\"x_range\":{\"id\":\"1045\"},\"x_scale\":{\"id\":\"1049\"},\"y_range\":{\"id\":\"1047\"},\"y_scale\":{\"id\":\"1051\"}},\"id\":\"1042\",\"subtype\":\"Figure\",\"type\":\"Plot\"},{\"attributes\":{},\"id\":\"1049\",\"type\":\"LinearScale\"},{\"attributes\":{},\"id\":\"1022\",\"type\":\"WheelZoomTool\"},{\"attributes\":{},\"id\":\"1266\",\"type\":\"HelpTool\"},{\"attributes\":{\"axis\":{\"id\":\"1457\"},\"dimension\":1,\"ticker\":null},\"id\":\"1460\",\"type\":\"Grid\"},{\"attributes\":{\"overlay\":{\"id\":\"1027\"}},\"id\":\"1023\",\"type\":\"BoxZoomTool\"},{\"attributes\":{},\"id\":\"1024\",\"type\":\"SaveTool\"},{\"attributes\":{},\"id\":\"1305\",\"type\":\"ResetTool\"},{\"attributes\":{\"axis\":{\"id\":\"1453\"},\"ticker\":null,\"visible\":false},\"id\":\"1456\",\"type\":\"Grid\"},{\"attributes\":{},\"id\":\"1025\",\"type\":\"ResetTool\"},{\"attributes\":{},\"id\":\"1304\",\"type\":\"SaveTool\"},{\"attributes\":{},\"id\":\"1458\",\"type\":\"BasicTicker\"},{\"attributes\":{\"axis_label\":\"Action Distribution\",\"formatter\":{\"id\":\"1572\"},\"ticker\":{\"id\":\"1458\"}},\"id\":\"1457\",\"type\":\"LinearAxis\"},{\"attributes\":{\"source\":{\"id\":\"1317\"}},\"id\":\"1321\",\"type\":\"CDSView\"},{\"attributes\":{\"overlay\":{\"id\":\"1067\"}},\"id\":\"1063\",\"type\":\"BoxZoomTool\"},{\"attributes\":{},\"id\":\"1026\",\"type\":\"HelpTool\"},{\"attributes\":{\"data_source\":{\"id\":\"1477\"},\"glyph\":{\"id\":\"1478\"},\"hover_glyph\":null,\"muted_glyph\":null,\"nonselection_glyph\":{\"id\":\"1479\"},\"selection_glyph\":null,\"view\":{\"id\":\"1481\"}},\"id\":\"1480\",\"type\":\"GlyphRenderer\"},{\"attributes\":{},\"id\":\"1500\",\"type\":\"BasicTickFormatter\"},{\"attributes\":{\"children\":[[{\"id\":\"1002\"},0,0],[{\"id\":\"1042\"},0,1],[{\"id\":\"1082\"},0,2],[{\"id\":\"1122\"},0,3],[{\"id\":\"1162\"},1,0],[{\"id\":\"1202\"},1,1],[{\"id\":\"1242\"},1,2],[{\"id\":\"1282\"},1,3],[{\"id\":\"1322\"},2,0],[{\"id\":\"1362\"},2,1],[{\"id\":\"1402\"},2,2],[{\"id\":\"1442\"},2,3]]},\"id\":\"1578\",\"type\":\"GridBox\"},{\"attributes\":{},\"id\":\"1306\",\"type\":\"HelpTool\"},{\"attributes\":{\"bottom\":{\"value\":0},\"fill_alpha\":{\"value\":0.5},\"fill_color\":{\"value\":\"#1f77b4\"},\"left\":{\"field\":\"left\"},\"line_alpha\":{\"value\":0.5},\"line_color\":{\"value\":\"white\"},\"right\":{\"field\":\"right\"},\"top\":{\"field\":\"top\"}},\"id\":\"1478\",\"type\":\"Quad\"},{\"attributes\":{\"bottom\":{\"value\":0},\"fill_alpha\":{\"value\":0.1},\"fill_color\":{\"value\":\"#1f77b4\"},\"left\":{\"field\":\"left\"},\"line_alpha\":{\"value\":0.1},\"line_color\":{\"value\":\"white\"},\"right\":{\"field\":\"right\"},\"top\":{\"field\":\"top\"}},\"id\":\"1479\",\"type\":\"Quad\"},{\"attributes\":{\"axis\":{\"id\":\"1057\"},\"dimension\":1,\"ticker\":null},\"id\":\"1060\",\"type\":\"Grid\"},{\"attributes\":{},\"id\":\"1061\",\"type\":\"PanTool\"},{\"attributes\":{},\"id\":\"1492\",\"type\":\"BasicTickFormatter\"},{\"attributes\":{},\"id\":\"1491\",\"type\":\"BasicTickFormatter\"},{\"attributes\":{\"overlay\":{\"id\":\"1307\"}},\"id\":\"1303\",\"type\":\"BoxZoomTool\"},{\"attributes\":{\"source\":{\"id\":\"1077\"}},\"id\":\"1081\",\"type\":\"CDSView\"},{\"attributes\":{\"bottom\":{\"value\":0},\"fill_alpha\":{\"value\":0.5},\"fill_color\":{\"value\":\"#1f77b4\"},\"left\":{\"field\":\"left\"},\"line_alpha\":{\"value\":0.5},\"line_color\":{\"value\":\"white\"},\"right\":{\"field\":\"right\"},\"top\":{\"field\":\"top\"}},\"id\":\"1118\",\"type\":\"Quad\"},{\"attributes\":{},\"id\":\"1461\",\"type\":\"PanTool\"},{\"attributes\":{\"bottom_units\":\"screen\",\"fill_alpha\":0.5,\"fill_color\":\"lightgrey\",\"left_units\":\"screen\",\"level\":\"overlay\",\"line_alpha\":1.0,\"line_color\":\"black\",\"line_dash\":[4,4],\"line_width\":2,\"render_mode\":\"css\",\"right_units\":\"screen\",\"top_units\":\"screen\"},\"id\":\"1267\",\"type\":\"BoxAnnotation\"},{\"attributes\":{\"active_drag\":\"auto\",\"active_inspect\":\"auto\",\"active_multi\":null,\"active_scroll\":\"auto\",\"active_tap\":\"auto\",\"tools\":[{\"id\":\"1061\"},{\"id\":\"1062\"},{\"id\":\"1063\"},{\"id\":\"1064\"},{\"id\":\"1065\"},{\"id\":\"1066\"}]},\"id\":\"1068\",\"type\":\"Toolbar\"},{\"attributes\":{},\"id\":\"1462\",\"type\":\"WheelZoomTool\"},{\"attributes\":{\"active_drag\":\"auto\",\"active_inspect\":\"auto\",\"active_multi\":null,\"active_scroll\":\"auto\",\"active_tap\":\"auto\",\"tools\":[{\"id\":\"1261\"},{\"id\":\"1262\"},{\"id\":\"1263\"},{\"id\":\"1264\"},{\"id\":\"1265\"},{\"id\":\"1266\"}]},\"id\":\"1268\",\"type\":\"Toolbar\"},{\"attributes\":{\"source\":{\"id\":\"1477\"}},\"id\":\"1481\",\"type\":\"CDSView\"},{\"attributes\":{\"overlay\":{\"id\":\"1467\"}},\"id\":\"1463\",\"type\":\"BoxZoomTool\"},{\"attributes\":{},\"id\":\"1464\",\"type\":\"SaveTool\"},{\"attributes\":{},\"id\":\"1058\",\"type\":\"BasicTicker\"},{\"attributes\":{\"text\":\"obs = [1.00, 0.00]\"},\"id\":\"1283\",\"type\":\"Title\"},{\"attributes\":{},\"id\":\"1062\",\"type\":\"WheelZoomTool\"},{\"attributes\":{},\"id\":\"1484\",\"type\":\"BasicTickFormatter\"},{\"attributes\":{\"source\":{\"id\":\"1277\"}},\"id\":\"1281\",\"type\":\"CDSView\"},{\"attributes\":{},\"id\":\"1065\",\"type\":\"ResetTool\"},{\"attributes\":{},\"id\":\"1285\",\"type\":\"DataRange1d\"},{\"attributes\":{},\"id\":\"1289\",\"type\":\"LinearScale\"},{\"attributes\":{},\"id\":\"1486\",\"type\":\"Selection\"},{\"attributes\":{\"ticks\":[0.25,0.75]},\"id\":\"1315\",\"type\":\"FixedTicker\"},{\"attributes\":{},\"id\":\"1064\",\"type\":\"SaveTool\"},{\"attributes\":{},\"id\":\"1487\",\"type\":\"UnionRenderers\"},{\"attributes\":{},\"id\":\"1287\",\"type\":\"DataRange1d\"},{\"attributes\":{},\"id\":\"1499\",\"type\":\"BasicTickFormatter\"},{\"attributes\":{},\"id\":\"1066\",\"type\":\"HelpTool\"},{\"attributes\":{\"data_source\":{\"id\":\"1317\"},\"glyph\":{\"id\":\"1318\"},\"hover_glyph\":null,\"muted_glyph\":null,\"nonselection_glyph\":{\"id\":\"1319\"},\"selection_glyph\":null,\"view\":{\"id\":\"1321\"}},\"id\":\"1320\",\"type\":\"GlyphRenderer\"},{\"attributes\":{},\"id\":\"1518\",\"type\":\"Selection\"},{\"attributes\":{\"ticks\":[0.25,0.75]},\"id\":\"1155\",\"type\":\"FixedTicker\"},{\"attributes\":{},\"id\":\"1291\",\"type\":\"LinearScale\"},{\"attributes\":{},\"id\":\"1494\",\"type\":\"Selection\"},{\"attributes\":{},\"id\":\"1302\",\"type\":\"WheelZoomTool\"},{\"attributes\":{\"axis\":{\"id\":\"1133\"},\"ticker\":null,\"visible\":false},\"id\":\"1136\",\"type\":\"Grid\"},{\"attributes\":{},\"id\":\"1495\",\"type\":\"UnionRenderers\"},{\"attributes\":{\"active_drag\":\"auto\",\"active_inspect\":\"auto\",\"active_multi\":null,\"active_scroll\":\"auto\",\"active_tap\":\"auto\",\"tools\":[{\"id\":\"1301\"},{\"id\":\"1302\"},{\"id\":\"1303\"},{\"id\":\"1304\"},{\"id\":\"1305\"},{\"id\":\"1306\"}]},\"id\":\"1308\",\"type\":\"Toolbar\"},{\"attributes\":{\"data\":{\"left\":{\"__ndarray__\":\"AAAAAAAAAAAAAAAAAADgPw==\",\"dtype\":\"float64\",\"shape\":[2]},\"right\":{\"__ndarray__\":\"AAAAAAAA4D8AAAAAAADwPw==\",\"dtype\":\"float64\",\"shape\":[2]},\"top\":{\"__ndarray__\":\"iM+wK0Du7T88mCfq3wjxPw==\",\"dtype\":\"float64\",\"shape\":[2]}},\"selected\":{\"id\":\"1510\"},\"selection_policy\":{\"id\":\"1511\"}},\"id\":\"1157\",\"type\":\"ColumnDataSource\"},{\"attributes\":{},\"id\":\"1301\",\"type\":\"PanTool\"},{\"attributes\":{},\"id\":\"1138\",\"type\":\"BasicTicker\"},{\"attributes\":{},\"id\":\"1516\",\"type\":\"BasicTickFormatter\"},{\"attributes\":{},\"id\":\"1386\",\"type\":\"HelpTool\"},{\"attributes\":{},\"id\":\"1502\",\"type\":\"Selection\"},{\"attributes\":{\"active_drag\":\"auto\",\"active_inspect\":\"auto\",\"active_multi\":null,\"active_scroll\":\"auto\",\"active_tap\":\"auto\",\"tools\":[{\"id\":\"1381\"},{\"id\":\"1382\"},{\"id\":\"1383\"},{\"id\":\"1384\"},{\"id\":\"1385\"},{\"id\":\"1386\"}]},\"id\":\"1388\",\"type\":\"Toolbar\"},{\"attributes\":{\"axis_label\":\"Action Distribution\",\"formatter\":{\"id\":\"1508\"},\"ticker\":{\"id\":\"1138\"}},\"id\":\"1137\",\"type\":\"LinearAxis\"},{\"attributes\":{\"data\":{\"left\":{\"__ndarray__\":\"AAAAAAAAAAAAAAAAAADgPw==\",\"dtype\":\"float64\",\"shape\":[2]},\"right\":{\"__ndarray__\":\"AAAAAAAA4D8AAAAAAADwPw==\",\"dtype\":\"float64\",\"shape\":[2]},\"top\":{\"__ndarray__\":\"Bci95kLS7D/9G6GM3pbxPw==\",\"dtype\":\"float64\",\"shape\":[2]}},\"selected\":{\"id\":\"1574\"},\"selection_policy\":{\"id\":\"1575\"}},\"id\":\"1477\",\"type\":\"ColumnDataSource\"},{\"attributes\":{\"bottom\":{\"value\":0},\"fill_alpha\":{\"value\":0.5},\"fill_color\":{\"value\":\"#1f77b4\"},\"left\":{\"field\":\"left\"},\"line_alpha\":{\"value\":0.5},\"line_color\":{\"value\":\"white\"},\"right\":{\"field\":\"right\"},\"top\":{\"field\":\"top\"}},\"id\":\"1398\",\"type\":\"Quad\"},{\"attributes\":{},\"id\":\"1519\",\"type\":\"UnionRenderers\"},{\"attributes\":{\"axis\":{\"id\":\"1137\"},\"dimension\":1,\"ticker\":null},\"id\":\"1140\",\"type\":\"Grid\"},{\"attributes\":{},\"id\":\"1523\",\"type\":\"BasicTickFormatter\"},{\"attributes\":{\"bottom_units\":\"screen\",\"fill_alpha\":0.5,\"fill_color\":\"lightgrey\",\"left_units\":\"screen\",\"level\":\"overlay\",\"line_alpha\":1.0,\"line_color\":\"black\",\"line_dash\":[4,4],\"line_width\":2,\"render_mode\":\"css\",\"right_units\":\"screen\",\"top_units\":\"screen\"},\"id\":\"1067\",\"type\":\"BoxAnnotation\"},{\"attributes\":{},\"id\":\"1524\",\"type\":\"BasicTickFormatter\"},{\"attributes\":{},\"id\":\"1385\",\"type\":\"ResetTool\"},{\"attributes\":{},\"id\":\"1384\",\"type\":\"SaveTool\"},{\"attributes\":{},\"id\":\"1555\",\"type\":\"BasicTickFormatter\"},{\"attributes\":{\"overlay\":{\"id\":\"1387\"}},\"id\":\"1383\",\"type\":\"BoxZoomTool\"},{\"attributes\":{},\"id\":\"1531\",\"type\":\"BasicTickFormatter\"},{\"attributes\":{\"bottom_units\":\"screen\",\"fill_alpha\":0.5,\"fill_color\":\"lightgrey\",\"left_units\":\"screen\",\"level\":\"overlay\",\"line_alpha\":1.0,\"line_color\":\"black\",\"line_dash\":[4,4],\"line_width\":2,\"render_mode\":\"css\",\"right_units\":\"screen\",\"top_units\":\"screen\"},\"id\":\"1307\",\"type\":\"BoxAnnotation\"},{\"attributes\":{},\"id\":\"1526\",\"type\":\"Selection\"},{\"attributes\":{\"ticks\":[0.25,0.75]},\"id\":\"1075\",\"type\":\"FixedTicker\"},{\"attributes\":{},\"id\":\"1527\",\"type\":\"UnionRenderers\"},{\"attributes\":{\"bottom\":{\"value\":0},\"fill_alpha\":{\"value\":0.1},\"fill_color\":{\"value\":\"#1f77b4\"},\"left\":{\"field\":\"left\"},\"line_alpha\":{\"value\":0.1},\"line_color\":{\"value\":\"white\"},\"right\":{\"field\":\"right\"},\"top\":{\"field\":\"top\"}},\"id\":\"1079\",\"type\":\"Quad\"},{\"attributes\":{\"data_source\":{\"id\":\"1077\"},\"glyph\":{\"id\":\"1078\"},\"hover_glyph\":null,\"muted_glyph\":null,\"nonselection_glyph\":{\"id\":\"1079\"},\"selection_glyph\":null,\"view\":{\"id\":\"1081\"}},\"id\":\"1080\",\"type\":\"GlyphRenderer\"},{\"attributes\":{\"below\":[{\"id\":\"1333\"}],\"center\":[{\"id\":\"1336\"},{\"id\":\"1340\"}],\"left\":[{\"id\":\"1337\"}],\"plot_height\":200,\"plot_width\":250,\"renderers\":[{\"id\":\"1360\"}],\"title\":{\"id\":\"1323\"},\"toolbar\":{\"id\":\"1348\"},\"toolbar_location\":null,\"x_range\":{\"id\":\"1325\"},\"x_scale\":{\"id\":\"1329\"},\"y_range\":{\"id\":\"1327\"},\"y_scale\":{\"id\":\"1331\"}},\"id\":\"1322\",\"subtype\":\"Figure\",\"type\":\"Plot\"},{\"attributes\":{\"bottom\":{\"value\":0},\"fill_alpha\":{\"value\":0.1},\"fill_color\":{\"value\":\"#1f77b4\"},\"left\":{\"field\":\"left\"},\"line_alpha\":{\"value\":0.1},\"line_color\":{\"value\":\"white\"},\"right\":{\"field\":\"right\"},\"top\":{\"field\":\"top\"}},\"id\":\"1319\",\"type\":\"Quad\"},{\"attributes\":{\"text\":\"obs = [1.00, 0.00]\"},\"id\":\"1083\",\"type\":\"Title\"},{\"attributes\":{\"active_drag\":\"auto\",\"active_inspect\":\"auto\",\"active_multi\":null,\"active_scroll\":\"auto\",\"active_tap\":\"auto\",\"tools\":[{\"id\":\"1021\"},{\"id\":\"1022\"},{\"id\":\"1023\"},{\"id\":\"1024\"},{\"id\":\"1025\"},{\"id\":\"1026\"}]},\"id\":\"1028\",\"type\":\"Toolbar\"},{\"attributes\":{\"bottom\":{\"value\":0},\"fill_alpha\":{\"value\":0.5},\"fill_color\":{\"value\":\"#1f77b4\"},\"left\":{\"field\":\"left\"},\"line_alpha\":{\"value\":0.5},\"line_color\":{\"value\":\"white\"},\"right\":{\"field\":\"right\"},\"top\":{\"field\":\"top\"}},\"id\":\"1038\",\"type\":\"Quad\"},{\"attributes\":{\"below\":[{\"id\":\"1013\"}],\"center\":[{\"id\":\"1016\"},{\"id\":\"1020\"}],\"left\":[{\"id\":\"1017\"}],\"plot_height\":200,\"plot_width\":250,\"renderers\":[{\"id\":\"1040\"}],\"title\":{\"id\":\"1003\"},\"toolbar\":{\"id\":\"1028\"},\"toolbar_location\":null,\"x_range\":{\"id\":\"1005\"},\"x_scale\":{\"id\":\"1009\"},\"y_range\":{\"id\":\"1007\"},\"y_scale\":{\"id\":\"1011\"}},\"id\":\"1002\",\"subtype\":\"Figure\",\"type\":\"Plot\"},{\"attributes\":{\"axis_label\":\"Actions\",\"formatter\":{\"id\":\"1491\"},\"major_label_overrides\":{\"0.25\":\"0\",\"0.75\":\"1\"},\"ticker\":{\"id\":\"1075\"}},\"id\":\"1053\",\"type\":\"LinearAxis\"},{\"attributes\":{\"toolbar\":{\"id\":\"1579\"},\"toolbar_location\":\"above\"},\"id\":\"1580\",\"type\":\"ToolbarBox\"},{\"attributes\":{},\"id\":\"1021\",\"type\":\"PanTool\"},{\"attributes\":{\"bottom\":{\"value\":0},\"fill_alpha\":{\"value\":0.1},\"fill_color\":{\"value\":\"#1f77b4\"},\"left\":{\"field\":\"left\"},\"line_alpha\":{\"value\":0.1},\"line_color\":{\"value\":\"white\"},\"right\":{\"field\":\"right\"},\"top\":{\"field\":\"top\"}},\"id\":\"1039\",\"type\":\"Quad\"},{\"attributes\":{\"bottom\":{\"value\":0},\"fill_alpha\":{\"value\":0.5},\"fill_color\":{\"value\":\"#1f77b4\"},\"left\":{\"field\":\"left\"},\"line_alpha\":{\"value\":0.5},\"line_color\":{\"value\":\"white\"},\"right\":{\"field\":\"right\"},\"top\":{\"field\":\"top\"}},\"id\":\"1078\",\"type\":\"Quad\"},{\"attributes\":{},\"id\":\"1418\",\"type\":\"BasicTicker\"},{\"attributes\":{\"axis\":{\"id\":\"1417\"},\"dimension\":1,\"ticker\":null},\"id\":\"1420\",\"type\":\"Grid\"},{\"attributes\":{\"source\":{\"id\":\"1437\"}},\"id\":\"1441\",\"type\":\"CDSView\"},{\"attributes\":{\"text\":\"obs = [1.00, 0.00]\"},\"id\":\"1443\",\"type\":\"Title\"},{\"attributes\":{\"active_drag\":\"auto\",\"active_inspect\":\"auto\",\"active_multi\":null,\"active_scroll\":\"auto\",\"active_tap\":\"auto\",\"tools\":[{\"id\":\"1421\"},{\"id\":\"1422\"},{\"id\":\"1423\"},{\"id\":\"1424\"},{\"id\":\"1425\"},{\"id\":\"1426\"}]},\"id\":\"1428\",\"type\":\"Toolbar\"},{\"attributes\":{},\"id\":\"1421\",\"type\":\"PanTool\"},{\"attributes\":{},\"id\":\"1422\",\"type\":\"WheelZoomTool\"},{\"attributes\":{\"axis\":{\"id\":\"1017\"},\"dimension\":1,\"ticker\":null},\"id\":\"1020\",\"type\":\"Grid\"},{\"attributes\":{\"overlay\":{\"id\":\"1427\"}},\"id\":\"1423\",\"type\":\"BoxZoomTool\"},{\"attributes\":{},\"id\":\"1424\",\"type\":\"SaveTool\"},{\"attributes\":{},\"id\":\"1425\",\"type\":\"ResetTool\"},{\"attributes\":{},\"id\":\"1045\",\"type\":\"DataRange1d\"},{\"attributes\":{},\"id\":\"1426\",\"type\":\"HelpTool\"},{\"attributes\":{},\"id\":\"1483\",\"type\":\"BasicTickFormatter\"},{\"attributes\":{\"toolbars\":[{\"id\":\"1028\"},{\"id\":\"1068\"},{\"id\":\"1108\"},{\"id\":\"1148\"},{\"id\":\"1188\"},{\"id\":\"1228\"},{\"id\":\"1268\"},{\"id\":\"1308\"},{\"id\":\"1348\"},{\"id\":\"1388\"},{\"id\":\"1428\"},{\"id\":\"1468\"}],\"tools\":[{\"id\":\"1021\"},{\"id\":\"1022\"},{\"id\":\"1023\"},{\"id\":\"1024\"},{\"id\":\"1025\"},{\"id\":\"1026\"},{\"id\":\"1061\"},{\"id\":\"1062\"},{\"id\":\"1063\"},{\"id\":\"1064\"},{\"id\":\"1065\"},{\"id\":\"1066\"},{\"id\":\"1101\"},{\"id\":\"1102\"},{\"id\":\"1103\"},{\"id\":\"1104\"},{\"id\":\"1105\"},{\"id\":\"1106\"},{\"id\":\"1141\"},{\"id\":\"1142\"},{\"id\":\"1143\"},{\"id\":\"1144\"},{\"id\":\"1145\"},{\"id\":\"1146\"},{\"id\":\"1181\"},{\"id\":\"1182\"},{\"id\":\"1183\"},{\"id\":\"1184\"},{\"id\":\"1185\"},{\"id\":\"1186\"},{\"id\":\"1221\"},{\"id\":\"1222\"},{\"id\":\"1223\"},{\"id\":\"1224\"},{\"id\":\"1225\"},{\"id\":\"1226\"},{\"id\":\"1261\"},{\"id\":\"1262\"},{\"id\":\"1263\"},{\"id\":\"1264\"},{\"id\":\"1265\"},{\"id\":\"1266\"},{\"id\":\"1301\"},{\"id\":\"1302\"},{\"id\":\"1303\"},{\"id\":\"1304\"},{\"id\":\"1305\"},{\"id\":\"1306\"},{\"id\":\"1341\"},{\"id\":\"1342\"},{\"id\":\"1343\"},{\"id\":\"1344\"},{\"id\":\"1345\"},{\"id\":\"1346\"},{\"id\":\"1381\"},{\"id\":\"1382\"},{\"id\":\"1383\"},{\"id\":\"1384\"},{\"id\":\"1385\"},{\"id\":\"1386\"},{\"id\":\"1421\"},{\"id\":\"1422\"},{\"id\":\"1423\"},{\"id\":\"1424\"},{\"id\":\"1425\"},{\"id\":\"1426\"},{\"id\":\"1461\"},{\"id\":\"1462\"},{\"id\":\"1463\"},{\"id\":\"1464\"},{\"id\":\"1465\"},{\"id\":\"1466\"}]},\"id\":\"1579\",\"type\":\"ProxyToolbar\"},{\"attributes\":{},\"id\":\"1511\",\"type\":\"UnionRenderers\"},{\"attributes\":{},\"id\":\"1466\",\"type\":\"HelpTool\"},{\"attributes\":{\"active_drag\":\"auto\",\"active_inspect\":\"auto\",\"active_multi\":null,\"active_scroll\":\"auto\",\"active_tap\":\"auto\",\"tools\":[{\"id\":\"1461\"},{\"id\":\"1462\"},{\"id\":\"1463\"},{\"id\":\"1464\"},{\"id\":\"1465\"},{\"id\":\"1466\"}]},\"id\":\"1468\",\"type\":\"Toolbar\"},{\"attributes\":{},\"id\":\"1510\",\"type\":\"Selection\"},{\"attributes\":{\"ticks\":[0.25,0.75]},\"id\":\"1475\",\"type\":\"FixedTicker\"},{\"attributes\":{},\"id\":\"1051\",\"type\":\"LinearScale\"},{\"attributes\":{\"bottom_units\":\"screen\",\"fill_alpha\":0.5,\"fill_color\":\"lightgrey\",\"left_units\":\"screen\",\"level\":\"overlay\",\"line_alpha\":1.0,\"line_color\":\"black\",\"line_dash\":[4,4],\"line_width\":2,\"render_mode\":\"css\",\"right_units\":\"screen\",\"top_units\":\"screen\"},\"id\":\"1027\",\"type\":\"BoxAnnotation\"},{\"attributes\":{\"bottom_units\":\"screen\",\"fill_alpha\":0.5,\"fill_color\":\"lightgrey\",\"left_units\":\"screen\",\"level\":\"overlay\",\"line_alpha\":1.0,\"line_color\":\"black\",\"line_dash\":[4,4],\"line_width\":2,\"render_mode\":\"css\",\"right_units\":\"screen\",\"top_units\":\"screen\"},\"id\":\"1427\",\"type\":\"BoxAnnotation\"},{\"attributes\":{},\"id\":\"1465\",\"type\":\"ResetTool\"},{\"attributes\":{\"axis_label\":\"Action Distribution\",\"formatter\":{\"id\":\"1492\"},\"ticker\":{\"id\":\"1058\"}},\"id\":\"1057\",\"type\":\"LinearAxis\"},{\"attributes\":{\"axis\":{\"id\":\"1053\"},\"ticker\":null,\"visible\":false},\"id\":\"1056\",\"type\":\"Grid\"},{\"attributes\":{\"bottom\":{\"value\":0},\"fill_alpha\":{\"value\":0.1},\"fill_color\":{\"value\":\"#1f77b4\"},\"left\":{\"field\":\"left\"},\"line_alpha\":{\"value\":0.1},\"line_color\":{\"value\":\"white\"},\"right\":{\"field\":\"right\"},\"top\":{\"field\":\"top\"}},\"id\":\"1439\",\"type\":\"Quad\"},{\"attributes\":{\"data_source\":{\"id\":\"1437\"},\"glyph\":{\"id\":\"1438\"},\"hover_glyph\":null,\"muted_glyph\":null,\"nonselection_glyph\":{\"id\":\"1439\"},\"selection_glyph\":null,\"view\":{\"id\":\"1441\"}},\"id\":\"1440\",\"type\":\"GlyphRenderer\"},{\"attributes\":{\"ticks\":[0.25,0.75]},\"id\":\"1435\",\"type\":\"FixedTicker\"},{\"attributes\":{},\"id\":\"1445\",\"type\":\"DataRange1d\"},{\"attributes\":{},\"id\":\"1449\",\"type\":\"LinearScale\"},{\"attributes\":{\"axis_label\":\"Actions\",\"formatter\":{\"id\":\"1483\"},\"major_label_overrides\":{\"0.25\":\"0\",\"0.75\":\"1\"},\"ticker\":{\"id\":\"1035\"}},\"id\":\"1013\",\"type\":\"LinearAxis\"},{\"attributes\":{},\"id\":\"1018\",\"type\":\"BasicTicker\"},{\"attributes\":{},\"id\":\"1447\",\"type\":\"DataRange1d\"},{\"attributes\":{},\"id\":\"1451\",\"type\":\"LinearScale\"},{\"attributes\":{\"axis_label\":\"Actions\",\"formatter\":{\"id\":\"1571\"},\"major_label_overrides\":{\"0.25\":\"0\",\"0.75\":\"1\"},\"ticker\":{\"id\":\"1475\"}},\"id\":\"1453\",\"type\":\"LinearAxis\"}],\"root_ids\":[\"1581\"]},\"title\":\"Bokeh Application\",\"version\":\"2.0.2\"}};\n",
       "  var render_items = [{\"docid\":\"0c2398cf-4554-430b-a1a4-38cc0f3dd0b5\",\"root_ids\":[\"1581\"],\"roots\":{\"1581\":\"247ba158-b079-46ed-bf32-b0b6f48755c9\"}}];\n",
       "  root.Bokeh.embed.embed_items_notebook(docs_json, render_items);\n",
       "\n",
       "  }\n",
       "  if (root.Bokeh !== undefined) {\n",
       "    embed_document(root);\n",
       "  } else {\n",
       "    var attempts = 0;\n",
       "    var timer = setInterval(function(root) {\n",
       "      if (root.Bokeh !== undefined) {\n",
       "        clearInterval(timer);\n",
       "        embed_document(root);\n",
       "      } else {\n",
       "        attempts++;\n",
       "        if (attempts > 100) {\n",
       "          clearInterval(timer);\n",
       "          console.log(\"Bokeh: ERROR: Unable to run BokehJS code because BokehJS library is missing\");\n",
       "        }\n",
       "      }\n",
       "    }, 10, root)\n",
       "  }\n",
       "})(window);"
      ],
      "application/vnd.bokehjs_exec.v0+json": ""
     },
     "metadata": {
      "application/vnd.bokehjs_exec.v0+json": {
       "id": "1581"
      }
     },
     "output_type": "display_data"
    }
   ],
   "source": [
    "plot_action_distribution(agent, batch)"
   ]
  },
  {
   "cell_type": "markdown",
   "metadata": {},
   "source": [
    "Por fim, execute o comando abaixo para inspecionar visualmente alguns episódios. Note que como o agente ainda não aprendeu nada, **cada episódio falha muito rapidamente** (e.g., no caso do *CartPole* isso quer dizer que o carrinho não consegue equilibrar o mastro e por isso este cai muito rapidamente)."
   ]
  },
  {
   "cell_type": "code",
   "execution_count": 20,
   "metadata": {},
   "outputs": [
    {
     "name": "stdout",
     "output_type": "stream",
     "text": [
      "[100% /   1s] episode = 10/10 -> total_reward =    48.0000, episode_length = 100\n"
     ]
    }
   ],
   "source": [
    "n_episodes = 10\n",
    "_ = utils.runner.evaluate(agent, env, n_episodes, render=True)"
   ]
  },
  {
   "cell_type": "markdown",
   "metadata": {},
   "source": [
    "### 4.3 Aprendendo melhores políticas\n",
    "\n",
    "Finalmente vamos treinar o agente. Note que para 1 milhão de passos de interação no ambiente a simulação deve demorar alguns poucos minutos.\n",
    "\n",
    "> **Observação**: lembra quando dissemos na aula que aprendizado por reforço precisa de muitos dados? Para um problema relativamente simples como o *CartPole* em geral é necessário dezenas ou centenas de milhares para um algoritmo do estado-da-arte. Para o REINFORCE, que é um dos algoritmos mais básicos, precisaremos de mais experiências. Nas próximas aulas vamos estudar técnicas mais avançadas para reduzir o número de amostras necessárias para obtermos o mesmo desempenho.  "
   ]
  },
  {
   "cell_type": "code",
   "execution_count": 21,
   "metadata": {},
   "outputs": [
    {
     "name": "stdout",
     "output_type": "stream",
     "text": [
      "[ 99% / 1172s] timestep = 998000/1000000, episode = 9980 -> loss =  3245.1013, total_reward =    40.0000, episode_length = 100\n"
     ]
    }
   ],
   "source": [
    "total_timesteps = 1_000_000\n",
    "timesteps, losses, grads, total_rewards, avg_total_rewards = utils.runner.train(agent, env, total_timesteps)"
   ]
  },
  {
   "cell_type": "markdown",
   "metadata": {},
   "source": [
    "### 4.4 Visualizando a curva de aprendizado e outras métricas do treinamento "
   ]
  },
  {
   "cell_type": "markdown",
   "metadata": {},
   "source": [
    "Talvez a métrica mais importante para se avaliar ao longo do treinamento de um agente de RL seja o retorno esperado dos episódios. Execute o código abaixo para visualizar o retorno médio por *batch* de trajetórias e uma média móvel sobre os últimos 100 episódios.\n",
    "\n",
    "Lembre-se que para o *CartPole* ser considerado como resolvido é necessário obter pelo menos 195.0 de retorno médio nos últimos 100 episódios. \n",
    "\n",
    "> **Atenção**: note o quão \"ruidoso\" é o treinamento do REINFORCE na versão básica que acabamos de implementar. Às vezes o retorno aumenta, logo em seguida diminui, e depois melhora novamente. Mesmo suavizando a curva dos retornos através uma média móvel, ainda é possível visualizar que o treinamento está longe de ser estável. "
   ]
  },
  {
   "cell_type": "code",
   "execution_count": null,
   "metadata": {},
   "outputs": [],
   "source": [
    "plot_returns(timesteps, total_rewards, avg_total_rewards)"
   ]
  },
  {
   "cell_type": "markdown",
   "metadata": {},
   "source": [
    "Execute o código abaixo para visualizar o *policy gradient loss*. Lembre-se que usamos essa quantidade para estimar o gradiente da política e não para avaliar o desempenho do agente. Embora para o caso do REINFORCE  a *loss* pareça estar correlacionada com o retorno médio, isso não ocorre no geral uma vez que para algoritmos mais avançados termos auxiliares aparecerão do cálculo da *loss function*."
   ]
  },
  {
   "cell_type": "code",
   "execution_count": null,
   "metadata": {},
   "outputs": [],
   "source": [
    "plot_losses(losses)"
   ]
  },
  {
   "cell_type": "markdown",
   "metadata": {},
   "source": [
    "Também pode ser útil para *debuggar* possíveis problemas ter alguma ideia da norma $\\mathcal{L}_2$ dos gradientes, $||\\nabla_\\theta J(\\theta)||_2$, ao longo do treinamento.\n",
    "\n",
    "Em particular, é importante garantir que a magnitude da norma dos gradientes não \"exploda\".\n",
    "\n",
    "Se você implementou tudo corretamente (e não alterou nada na arquitetura do modelo da política), a maioria dos valores das normas devem estar entre 500 e 1500, com alguns picos até 4000."
   ]
  },
  {
   "cell_type": "code",
   "execution_count": null,
   "metadata": {},
   "outputs": [],
   "source": [
    "plot_gradient_norms(grads)"
   ]
  },
  {
   "cell_type": "markdown",
   "metadata": {},
   "source": [
    "Após o treinamento, compare o novo desempenho do agente em termos de retorno médio, distribuições das ações e comportamento."
   ]
  },
  {
   "cell_type": "code",
   "execution_count": null,
   "metadata": {},
   "outputs": [],
   "source": [
    "n_episodes = 100\n",
    "timesteps, total_rewards, avg_total_rewards = utils.runner.evaluate(agent, env, n_episodes, render=False)\n",
    "batch = agent.memory.sample()\n",
    "\n",
    "print(f\"\\n>> O retorno médio obtido em {n_episodes} episódios foi {np.mean(total_rewards)}\")"
   ]
  },
  {
   "cell_type": "markdown",
   "metadata": {},
   "source": [
    "Visualize a nova distribuição de ações:"
   ]
  },
  {
   "cell_type": "code",
   "execution_count": null,
   "metadata": {},
   "outputs": [],
   "source": [
    "plot_action_distribution(agent, batch)"
   ]
  },
  {
   "cell_type": "markdown",
   "metadata": {},
   "source": [
    "Observe que se tudo correu conforme o esperado o agente aprendeu a equilibrar o mastro movendo o carrinho de acordo. Ainda há como melhorar um pouco, mas já é possível verificar que o agente aprendeu algo bastante razoável."
   ]
  },
  {
   "cell_type": "code",
   "execution_count": null,
   "metadata": {},
   "outputs": [],
   "source": [
    "n_episodes = 100\n",
    "_ = utils.runner.evaluate(agent, env, n_episodes, render=True)"
   ]
  },
  {
   "cell_type": "markdown",
   "metadata": {},
   "source": [
    "---\n",
    "\n",
    "**<font color=\"red\">QUESTÕES:</font>**\n",
    "\n",
    "1. Como você compara as distribuições das ações (isto é, a política estocástica) antes e depois do treinamento? O que você diria sobre a escolha de ações pelo agente no início e no final do treinamento?\n",
    "\n",
    "Depois do treinamento agente passou a tomar, ações diferentes para cada valor de estado/observação dado pelo ambiente. No início elas eram aleatórias, apresentando 50% para cada tipo de ação independentemente do ambiente. Mas note que isso ocorreu porque mesmo no cold start da rede ela foi iniciada com valores aleatórios (padrão do TensorFlow). Ao final do trienamento o agente resolve 200 passos com o bastão equilibrado.\n",
    "\n",
    "2. Como você justificaria o ruído (ou em outras palavras a alta variabilidade) nos retornos dos episódios obtidos durante o treinamento? Como você relaciona o *policy gradient loss* e a norma dos gradientes com os retornos obtidos?\n",
    "\n",
    "Isso é normal em métodos de gradiente, e está asssociado à Learning Rate, que deve estar um pouco alta ou ao batchsize que poderia ser aumentado. Pensando apenas na rede em si, seria interassante usar um algoritmo em que a learning rate decaia lentamente ao longo do tempo, e , nas etapas finais decaia rápido. Isso porquê acreditamos (e isso é uma heurística) que ao longo do tempo já nos aproximamos do ótimo e corremos o risco de cair em um comportamento divergente, então ao reduzirmos ao final os passos ficam mais finos e aceleraríamos a convergência. Outra forma seria aumentar o batch_size que faria com que a média de estabilizasse mais, mas ainda assim a learning_rate é (na prática, de novo heurística) crucial. \n",
    "\n",
    "+ Um jeito seria usar uma regularização L2.\n",
    "+ Os gradientes se reduzem, a medida que o retorno aumenta. Pois, se o retorno aumenta (para todos os estados) o resultado da soma interna aumenta. Se isso for verdade em todos os ensaios, isso se aumentará, mas como nossa função de perda é o negativo da função J, o gradiente também será, e, portanto, haverá uma correlação positiva entre a norma do gradiente e o retorno. Reduzir a norma do gradiente, aqui, é aumentar o retorno esperado total.\n",
    "\n",
    "---"
   ]
  },
  {
   "cell_type": "markdown",
   "metadata": {},
   "source": [
    "## 5. Bônus - Experimentos\n",
    "\n",
    "Nessa seção opcional, vamos tentar entender o efeito na curva de treinamento de alguns hiper-parâmetros do algoritmo REINFORCE. Em particular, iremos variar a taxa de aprendizado (e.g., *learning rate*) e o tamanho do *batch* de treinamento.\n",
    "\n",
    "Execute o código abaixo para rodar 4 experimentos. Note que irá demorar certa de 15 e 30 minutos dependendo da máquina. A medida que os resultados forem sendo visualizados, tente formular hipóteses sobre o efeito do hiper-parâmetro. "
   ]
  },
  {
   "cell_type": "code",
   "execution_count": null,
   "metadata": {},
   "outputs": [],
   "source": [
    "def run_experiment(trial, env_id, config, total_timesteps):\n",
    "    env = gym.make(env_id)\n",
    "    agent = REINFORCE(env.observation_space, env.action_space, config)\n",
    "    timesteps, losses, _, total_rewards, avg_total_rewards = utils.runner.train(agent, env, total_timesteps, verbose=True)\n",
    "    return timesteps, losses, total_rewards, avg_total_rewards"
   ]
  },
  {
   "cell_type": "code",
   "execution_count": null,
   "metadata": {},
   "outputs": [],
   "source": [
    "n_trials = 3\n",
    "total_timesteps = 1_000_000\n",
    "\n",
    "env_id = \"CartPole-v0\"\n",
    "base_config = {\n",
    "        # policy net\n",
    "    \"hidden_layers\": [64, 64],\n",
    "    \"activation\": \"relu\",\n",
    "\n",
    "    # optimization\n",
    "    \"optimizer\": \"adam\",\n",
    "    \"learning_rate\": None,\n",
    "\n",
    "    # training\n",
    "    \"train_batch_size\": None,\n",
    "}\n",
    "\n",
    "learning_rates = [1e-2, 1e-4]\n",
    "batch_sizes = [1000, 10000]\n",
    "\n",
    "for lr in learning_rates:\n",
    "    for bs in batch_sizes:        \n",
    "        experiment_config = {\"learning_rate\": lr, \"train_batch_size\": bs}\n",
    "        config = {**base_config, **experiment_config}\n",
    "        \n",
    "        print(f\">> Experiment: {experiment_config}\")\n",
    "        results = []\n",
    "        for trial in range(n_trials):\n",
    "            print(f\"Starting trial {trial+1} ...\")\n",
    "            results.append(run_experiment(trial, env_id, config, total_timesteps))\n",
    "        \n",
    "        plot_experiments(results, experiment_config)"
   ]
  },
  {
   "cell_type": "markdown",
   "metadata": {},
   "source": [
    "---\n",
    "\n",
    "**<font color=\"red\">QUESTÕES:</font>**\n",
    "\n",
    "1. Fixando o `batch_size`, como você compararia os resultados obtidos para cada valor de `learning_rate` em termos do desempenho final do agente e estabilidade do treinamento?\n",
    "\n",
    "Reduzindo a learning rate, o retorno total aumentou, mas o ruído persiste e parece ter aumentado um pouco (dificil de ver porcasusa da esclaa) \n",
    "\n",
    "2. Fixando o `learning_rate`, como você compararia os resultados obtidos para cada valor de `batch_size` em termos do desempenho final do agente e estabilidade do treinamento?\n",
    "\n",
    "Aumentar o batch_size aumenta o retorno total e atenua um pooouco a variancia.\n",
    "\n",
    "3. Se você tivesse possibilidade (e paciência :)) de coletar 10 milhões de passos de interação com ambiente qual dentre as quatro configurações de hiper-parâmetros você escolheria? E se tivesse apenas 100.000 ?\n",
    "\n",
    "Escolheria a menor learning rate, aliada ao maior bathsize. Ou, na impossibilidade procuraria o um otimizador auto-ajustável ou tentaria regularizar a rede."
   ]
  }
 ],
 "metadata": {
  "kernelspec": {
   "display_name": "Python 3",
   "language": "python",
   "name": "python3"
  },
  "language_info": {
   "codemirror_mode": {
    "name": "ipython",
    "version": 3
   },
   "file_extension": ".py",
   "mimetype": "text/x-python",
   "name": "python",
   "nbconvert_exporter": "python",
   "pygments_lexer": "ipython3",
   "version": "3.7.7"
  }
 },
 "nbformat": 4,
 "nbformat_minor": 4
}
